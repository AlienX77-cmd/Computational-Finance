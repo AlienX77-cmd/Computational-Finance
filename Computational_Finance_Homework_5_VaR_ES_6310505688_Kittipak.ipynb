{
  "nbformat": 4,
  "nbformat_minor": 0,
  "metadata": {
    "colab": {
      "provenance": [],
      "authorship_tag": "ABX9TyOWYobeKubUBGNLBMDb/3vG",
      "include_colab_link": true
    },
    "kernelspec": {
      "name": "python3",
      "display_name": "Python 3"
    },
    "language_info": {
      "name": "python"
    }
  },
  "cells": [
    {
      "cell_type": "markdown",
      "metadata": {
        "id": "view-in-github",
        "colab_type": "text"
      },
      "source": [
        "<a href=\"https://colab.research.google.com/github/AlienX77-cmd/Computational-Finance/blob/main/Computational_Finance_Homework_5_VaR_ES_6310505688_Kittipak.ipynb\" target=\"_parent\"><img src=\"https://colab.research.google.com/assets/colab-badge.svg\" alt=\"Open In Colab\"/></a>"
      ]
    },
    {
      "cell_type": "code",
      "source": [
        "# Kittipak Wibulsthien 6310505688\n",
        "# กิตติภัค วิบูลเสถียร 6310505688\n",
        "\n",
        "import pandas as pd\n",
        "import numpy as np\n",
        "import scipy\n",
        "import yfinance as yf\n",
        "import time\n",
        "\n",
        "\n",
        "%matplotlib inline\n",
        "%pylab inline"
      ],
      "metadata": {
        "id": "D-CU12ufs-VC",
        "colab": {
          "base_uri": "https://localhost:8080/"
        },
        "outputId": "459338fc-c4b0-4f5d-8fd8-b45a803a5f7d"
      },
      "execution_count": 60,
      "outputs": [
        {
          "output_type": "stream",
          "name": "stdout",
          "text": [
            "Populating the interactive namespace from numpy and matplotlib\n"
          ]
        }
      ]
    },
    {
      "cell_type": "code",
      "source": [
        "start_date = '2020-01-01'\n",
        "end_date = '2022-12-31'\n",
        "\n",
        "df= yf.download('PTT.BK', start=start_date, end=end_date)"
      ],
      "metadata": {
        "colab": {
          "base_uri": "https://localhost:8080/"
        },
        "id": "IAKG8oZXjPmF",
        "outputId": "92200648-1982-4dfe-dd8f-5c24695dc3cf"
      },
      "execution_count": 61,
      "outputs": [
        {
          "output_type": "stream",
          "name": "stdout",
          "text": [
            "\r[*********************100%%**********************]  1 of 1 completed\n"
          ]
        }
      ]
    },
    {
      "cell_type": "code",
      "source": [
        "df.tail(5)"
      ],
      "metadata": {
        "colab": {
          "base_uri": "https://localhost:8080/",
          "height": 237
        },
        "id": "4xaZUlTYjpNt",
        "outputId": "3f45f79b-e3f4-434b-8c13-e736408f230f"
      },
      "execution_count": 62,
      "outputs": [
        {
          "output_type": "execute_result",
          "data": {
            "text/plain": [
              "             Open   High    Low  Close  Adj Close    Volume\n",
              "Date                                                       \n",
              "2022-12-26  31.50  32.25  31.50  32.25  30.768049  39661000\n",
              "2022-12-27  32.50  32.75  32.25  32.50  31.006561  80790200\n",
              "2022-12-28  32.50  32.75  32.25  32.75  31.245071  49817800\n",
              "2022-12-29  32.75  33.00  32.50  32.75  31.245071  61347100\n",
              "2022-12-30  33.00  33.50  32.75  33.25  31.722097  94398400"
            ],
            "text/html": [
              "\n",
              "  <div id=\"df-10cd9a7c-9fab-404b-abbf-e8de878dd955\" class=\"colab-df-container\">\n",
              "    <div>\n",
              "<style scoped>\n",
              "    .dataframe tbody tr th:only-of-type {\n",
              "        vertical-align: middle;\n",
              "    }\n",
              "\n",
              "    .dataframe tbody tr th {\n",
              "        vertical-align: top;\n",
              "    }\n",
              "\n",
              "    .dataframe thead th {\n",
              "        text-align: right;\n",
              "    }\n",
              "</style>\n",
              "<table border=\"1\" class=\"dataframe\">\n",
              "  <thead>\n",
              "    <tr style=\"text-align: right;\">\n",
              "      <th></th>\n",
              "      <th>Open</th>\n",
              "      <th>High</th>\n",
              "      <th>Low</th>\n",
              "      <th>Close</th>\n",
              "      <th>Adj Close</th>\n",
              "      <th>Volume</th>\n",
              "    </tr>\n",
              "    <tr>\n",
              "      <th>Date</th>\n",
              "      <th></th>\n",
              "      <th></th>\n",
              "      <th></th>\n",
              "      <th></th>\n",
              "      <th></th>\n",
              "      <th></th>\n",
              "    </tr>\n",
              "  </thead>\n",
              "  <tbody>\n",
              "    <tr>\n",
              "      <th>2022-12-26</th>\n",
              "      <td>31.50</td>\n",
              "      <td>32.25</td>\n",
              "      <td>31.50</td>\n",
              "      <td>32.25</td>\n",
              "      <td>30.768049</td>\n",
              "      <td>39661000</td>\n",
              "    </tr>\n",
              "    <tr>\n",
              "      <th>2022-12-27</th>\n",
              "      <td>32.50</td>\n",
              "      <td>32.75</td>\n",
              "      <td>32.25</td>\n",
              "      <td>32.50</td>\n",
              "      <td>31.006561</td>\n",
              "      <td>80790200</td>\n",
              "    </tr>\n",
              "    <tr>\n",
              "      <th>2022-12-28</th>\n",
              "      <td>32.50</td>\n",
              "      <td>32.75</td>\n",
              "      <td>32.25</td>\n",
              "      <td>32.75</td>\n",
              "      <td>31.245071</td>\n",
              "      <td>49817800</td>\n",
              "    </tr>\n",
              "    <tr>\n",
              "      <th>2022-12-29</th>\n",
              "      <td>32.75</td>\n",
              "      <td>33.00</td>\n",
              "      <td>32.50</td>\n",
              "      <td>32.75</td>\n",
              "      <td>31.245071</td>\n",
              "      <td>61347100</td>\n",
              "    </tr>\n",
              "    <tr>\n",
              "      <th>2022-12-30</th>\n",
              "      <td>33.00</td>\n",
              "      <td>33.50</td>\n",
              "      <td>32.75</td>\n",
              "      <td>33.25</td>\n",
              "      <td>31.722097</td>\n",
              "      <td>94398400</td>\n",
              "    </tr>\n",
              "  </tbody>\n",
              "</table>\n",
              "</div>\n",
              "    <div class=\"colab-df-buttons\">\n",
              "\n",
              "  <div class=\"colab-df-container\">\n",
              "    <button class=\"colab-df-convert\" onclick=\"convertToInteractive('df-10cd9a7c-9fab-404b-abbf-e8de878dd955')\"\n",
              "            title=\"Convert this dataframe to an interactive table.\"\n",
              "            style=\"display:none;\">\n",
              "\n",
              "  <svg xmlns=\"http://www.w3.org/2000/svg\" height=\"24px\" viewBox=\"0 -960 960 960\">\n",
              "    <path d=\"M120-120v-720h720v720H120Zm60-500h600v-160H180v160Zm220 220h160v-160H400v160Zm0 220h160v-160H400v160ZM180-400h160v-160H180v160Zm440 0h160v-160H620v160ZM180-180h160v-160H180v160Zm440 0h160v-160H620v160Z\"/>\n",
              "  </svg>\n",
              "    </button>\n",
              "\n",
              "  <style>\n",
              "    .colab-df-container {\n",
              "      display:flex;\n",
              "      gap: 12px;\n",
              "    }\n",
              "\n",
              "    .colab-df-convert {\n",
              "      background-color: #E8F0FE;\n",
              "      border: none;\n",
              "      border-radius: 50%;\n",
              "      cursor: pointer;\n",
              "      display: none;\n",
              "      fill: #1967D2;\n",
              "      height: 32px;\n",
              "      padding: 0 0 0 0;\n",
              "      width: 32px;\n",
              "    }\n",
              "\n",
              "    .colab-df-convert:hover {\n",
              "      background-color: #E2EBFA;\n",
              "      box-shadow: 0px 1px 2px rgba(60, 64, 67, 0.3), 0px 1px 3px 1px rgba(60, 64, 67, 0.15);\n",
              "      fill: #174EA6;\n",
              "    }\n",
              "\n",
              "    .colab-df-buttons div {\n",
              "      margin-bottom: 4px;\n",
              "    }\n",
              "\n",
              "    [theme=dark] .colab-df-convert {\n",
              "      background-color: #3B4455;\n",
              "      fill: #D2E3FC;\n",
              "    }\n",
              "\n",
              "    [theme=dark] .colab-df-convert:hover {\n",
              "      background-color: #434B5C;\n",
              "      box-shadow: 0px 1px 3px 1px rgba(0, 0, 0, 0.15);\n",
              "      filter: drop-shadow(0px 1px 2px rgba(0, 0, 0, 0.3));\n",
              "      fill: #FFFFFF;\n",
              "    }\n",
              "  </style>\n",
              "\n",
              "    <script>\n",
              "      const buttonEl =\n",
              "        document.querySelector('#df-10cd9a7c-9fab-404b-abbf-e8de878dd955 button.colab-df-convert');\n",
              "      buttonEl.style.display =\n",
              "        google.colab.kernel.accessAllowed ? 'block' : 'none';\n",
              "\n",
              "      async function convertToInteractive(key) {\n",
              "        const element = document.querySelector('#df-10cd9a7c-9fab-404b-abbf-e8de878dd955');\n",
              "        const dataTable =\n",
              "          await google.colab.kernel.invokeFunction('convertToInteractive',\n",
              "                                                    [key], {});\n",
              "        if (!dataTable) return;\n",
              "\n",
              "        const docLinkHtml = 'Like what you see? Visit the ' +\n",
              "          '<a target=\"_blank\" href=https://colab.research.google.com/notebooks/data_table.ipynb>data table notebook</a>'\n",
              "          + ' to learn more about interactive tables.';\n",
              "        element.innerHTML = '';\n",
              "        dataTable['output_type'] = 'display_data';\n",
              "        await google.colab.output.renderOutput(dataTable, element);\n",
              "        const docLink = document.createElement('div');\n",
              "        docLink.innerHTML = docLinkHtml;\n",
              "        element.appendChild(docLink);\n",
              "      }\n",
              "    </script>\n",
              "  </div>\n",
              "\n",
              "\n",
              "<div id=\"df-c2f1474e-b4ff-4445-b6f3-00b8749319ee\">\n",
              "  <button class=\"colab-df-quickchart\" onclick=\"quickchart('df-c2f1474e-b4ff-4445-b6f3-00b8749319ee')\"\n",
              "            title=\"Suggest charts.\"\n",
              "            style=\"display:none;\">\n",
              "\n",
              "<svg xmlns=\"http://www.w3.org/2000/svg\" height=\"24px\"viewBox=\"0 0 24 24\"\n",
              "     width=\"24px\">\n",
              "    <g>\n",
              "        <path d=\"M19 3H5c-1.1 0-2 .9-2 2v14c0 1.1.9 2 2 2h14c1.1 0 2-.9 2-2V5c0-1.1-.9-2-2-2zM9 17H7v-7h2v7zm4 0h-2V7h2v10zm4 0h-2v-4h2v4z\"/>\n",
              "    </g>\n",
              "</svg>\n",
              "  </button>\n",
              "\n",
              "<style>\n",
              "  .colab-df-quickchart {\n",
              "      --bg-color: #E8F0FE;\n",
              "      --fill-color: #1967D2;\n",
              "      --hover-bg-color: #E2EBFA;\n",
              "      --hover-fill-color: #174EA6;\n",
              "      --disabled-fill-color: #AAA;\n",
              "      --disabled-bg-color: #DDD;\n",
              "  }\n",
              "\n",
              "  [theme=dark] .colab-df-quickchart {\n",
              "      --bg-color: #3B4455;\n",
              "      --fill-color: #D2E3FC;\n",
              "      --hover-bg-color: #434B5C;\n",
              "      --hover-fill-color: #FFFFFF;\n",
              "      --disabled-bg-color: #3B4455;\n",
              "      --disabled-fill-color: #666;\n",
              "  }\n",
              "\n",
              "  .colab-df-quickchart {\n",
              "    background-color: var(--bg-color);\n",
              "    border: none;\n",
              "    border-radius: 50%;\n",
              "    cursor: pointer;\n",
              "    display: none;\n",
              "    fill: var(--fill-color);\n",
              "    height: 32px;\n",
              "    padding: 0;\n",
              "    width: 32px;\n",
              "  }\n",
              "\n",
              "  .colab-df-quickchart:hover {\n",
              "    background-color: var(--hover-bg-color);\n",
              "    box-shadow: 0 1px 2px rgba(60, 64, 67, 0.3), 0 1px 3px 1px rgba(60, 64, 67, 0.15);\n",
              "    fill: var(--button-hover-fill-color);\n",
              "  }\n",
              "\n",
              "  .colab-df-quickchart-complete:disabled,\n",
              "  .colab-df-quickchart-complete:disabled:hover {\n",
              "    background-color: var(--disabled-bg-color);\n",
              "    fill: var(--disabled-fill-color);\n",
              "    box-shadow: none;\n",
              "  }\n",
              "\n",
              "  .colab-df-spinner {\n",
              "    border: 2px solid var(--fill-color);\n",
              "    border-color: transparent;\n",
              "    border-bottom-color: var(--fill-color);\n",
              "    animation:\n",
              "      spin 1s steps(1) infinite;\n",
              "  }\n",
              "\n",
              "  @keyframes spin {\n",
              "    0% {\n",
              "      border-color: transparent;\n",
              "      border-bottom-color: var(--fill-color);\n",
              "      border-left-color: var(--fill-color);\n",
              "    }\n",
              "    20% {\n",
              "      border-color: transparent;\n",
              "      border-left-color: var(--fill-color);\n",
              "      border-top-color: var(--fill-color);\n",
              "    }\n",
              "    30% {\n",
              "      border-color: transparent;\n",
              "      border-left-color: var(--fill-color);\n",
              "      border-top-color: var(--fill-color);\n",
              "      border-right-color: var(--fill-color);\n",
              "    }\n",
              "    40% {\n",
              "      border-color: transparent;\n",
              "      border-right-color: var(--fill-color);\n",
              "      border-top-color: var(--fill-color);\n",
              "    }\n",
              "    60% {\n",
              "      border-color: transparent;\n",
              "      border-right-color: var(--fill-color);\n",
              "    }\n",
              "    80% {\n",
              "      border-color: transparent;\n",
              "      border-right-color: var(--fill-color);\n",
              "      border-bottom-color: var(--fill-color);\n",
              "    }\n",
              "    90% {\n",
              "      border-color: transparent;\n",
              "      border-bottom-color: var(--fill-color);\n",
              "    }\n",
              "  }\n",
              "</style>\n",
              "\n",
              "  <script>\n",
              "    async function quickchart(key) {\n",
              "      const quickchartButtonEl =\n",
              "        document.querySelector('#' + key + ' button');\n",
              "      quickchartButtonEl.disabled = true;  // To prevent multiple clicks.\n",
              "      quickchartButtonEl.classList.add('colab-df-spinner');\n",
              "      try {\n",
              "        const charts = await google.colab.kernel.invokeFunction(\n",
              "            'suggestCharts', [key], {});\n",
              "      } catch (error) {\n",
              "        console.error('Error during call to suggestCharts:', error);\n",
              "      }\n",
              "      quickchartButtonEl.classList.remove('colab-df-spinner');\n",
              "      quickchartButtonEl.classList.add('colab-df-quickchart-complete');\n",
              "    }\n",
              "    (() => {\n",
              "      let quickchartButtonEl =\n",
              "        document.querySelector('#df-c2f1474e-b4ff-4445-b6f3-00b8749319ee button');\n",
              "      quickchartButtonEl.style.display =\n",
              "        google.colab.kernel.accessAllowed ? 'block' : 'none';\n",
              "    })();\n",
              "  </script>\n",
              "</div>\n",
              "    </div>\n",
              "  </div>\n"
            ]
          },
          "metadata": {},
          "execution_count": 62
        }
      ]
    },
    {
      "cell_type": "markdown",
      "source": [
        "![image.png](data:image/png;base64,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)"
      ],
      "metadata": {
        "id": "-s1gIcoQk6MP"
      }
    },
    {
      "cell_type": "markdown",
      "source": [
        "###**Calculate Daily Return**"
      ],
      "metadata": {
        "id": "N1L_TQSejfX4"
      }
    },
    {
      "cell_type": "code",
      "source": [
        "df['Daily Returns'] = df['Adj Close'].pct_change()"
      ],
      "metadata": {
        "id": "tmE4XG0LjbgE"
      },
      "execution_count": 63,
      "outputs": []
    },
    {
      "cell_type": "markdown",
      "source": [
        "###**a) Historical VaR**"
      ],
      "metadata": {
        "id": "B8jLGMLajwYE"
      }
    },
    {
      "cell_type": "code",
      "source": [
        "Alpha = 0.01  # 99% confidence level\n",
        "Hist_VaR_Daily = df['Daily Returns'].quantile(Alpha)\n",
        "Hist_VaR_Weekly = df['Daily Returns'].quantile(Alpha) * np.sqrt(5)  # Assuming 5 trading days in a week"
      ],
      "metadata": {
        "id": "YPbEtW7Mjttk"
      },
      "execution_count": 64,
      "outputs": []
    },
    {
      "cell_type": "code",
      "source": [
        "print(\"Daily Historical VaR:\", Hist_VaR_Daily.round(4)); print(\"Weekly Historical VaR:\", Hist_VaR_Weekly.round(4))"
      ],
      "metadata": {
        "colab": {
          "base_uri": "https://localhost:8080/"
        },
        "id": "33QTILU1j5_7",
        "outputId": "d0065a98-b594-4d33-bff1-1044abcf0d9e"
      },
      "execution_count": 65,
      "outputs": [
        {
          "output_type": "stream",
          "name": "stdout",
          "text": [
            "Daily Historical VaR: -0.0504\n",
            "Weekly Historical VaR: -0.1127\n"
          ]
        }
      ]
    },
    {
      "cell_type": "markdown",
      "source": [
        "###**b) Parametric VaR**\n",
        "\n",
        "Parametric VaR is based on the assumption that the returns of a financial instrument follow a specific distribution, often assumed to be normal (Gaussian). The formula for Parametric VaR is:\n",
        "\n",
        "Parametric_VaR = μ + (z×σ)\n",
        "\n",
        "Where:\n",
        "\n",
        "    μ is the mean (average) of the returns.\n",
        "    σ is the standard deviation of the returns.\n",
        "    z is the z-score corresponding to the desired confidence level."
      ],
      "metadata": {
        "id": "gkmHPt7ckNF0"
      }
    },
    {
      "cell_type": "code",
      "source": [
        "Mean_Return = df['Daily Returns'].mean() # calculate mean\n",
        "STD = df['Daily Returns'].std() # calculate standard deviation\n",
        "\n",
        "z_score = np.percentile(np.random.normal(0, 1, 10000), Alpha * 100) # np.random.normal(0, 1, 10000) generates a random sample from a standard normal distribution. The z_score is then calculated using the desired confidence level (alpha). The Parametric VaR is computed using the mean and standard deviation of the historical daily returns.\n",
        "Para_VaR_Daily = Mean_Return + (z_score * STD)\n",
        "Para_VaR_Weekly = Para_VaR_Daily * np.sqrt(5) # Assuming 5 trading days in a week"
      ],
      "metadata": {
        "id": "mAhpZboOkBth"
      },
      "execution_count": 66,
      "outputs": []
    },
    {
      "cell_type": "code",
      "source": [
        "print(\"Daily Parametric VaR:\", Para_VaR_Daily.round(4)); print(\"Weekly Parametric VaR:\", Para_VaR_Weekly.round(4))"
      ],
      "metadata": {
        "colab": {
          "base_uri": "https://localhost:8080/"
        },
        "id": "l7zE8wg9kdaz",
        "outputId": "815f48fb-77c7-4ecd-b513-e999364c7aaa"
      },
      "execution_count": 67,
      "outputs": [
        {
          "output_type": "stream",
          "name": "stdout",
          "text": [
            "Daily Parametric VaR: -0.0481\n",
            "Weekly Parametric VaR: -0.1076\n"
          ]
        }
      ]
    },
    {
      "cell_type": "markdown",
      "source": [
        "![image.png](data:image/png;base64,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)"
      ],
      "metadata": {
        "id": "KSpr9Nygk-jN"
      }
    },
    {
      "cell_type": "markdown",
      "source": [
        "###**Expected Shortfall**\n",
        "Expected Shortfall (ES), also known as Conditional Value at Risk (CVaR), is the expected value of the loss given that it exceeds the Value at Risk (VaR). It provides a more comprehensive measure of risk compared to VaR. In practice, ES is often estimated empirically by taking the average of the worst-case losses beyond the VaR threshold\n",
        "\n",
        "Reference: https://medium.datadriveninvestor.com/how-to-measure-the-expected-shortfall-of-a-stock-investment-in-python-bfdfccf194d0\n"
      ],
      "metadata": {
        "id": "wZz1_RTEpRjY"
      }
    },
    {
      "cell_type": "code",
      "source": [
        "ES_daily = df['Daily Returns'][df['Daily Returns'] <= Hist_VaR_Daily].mean()\n",
        "ES_weekly = df['Daily Returns'][df['Daily Returns'] <= Hist_VaR_Weekly].mean()"
      ],
      "metadata": {
        "id": "dbkea7IJk1H7"
      },
      "execution_count": 68,
      "outputs": []
    },
    {
      "cell_type": "code",
      "source": [
        "print(\"Daily Expected Shortfall:\", ES_daily.round(4)); print(\"Weekly Expected Shortfall:\", ES_weekly.round(4))"
      ],
      "metadata": {
        "colab": {
          "base_uri": "https://localhost:8080/"
        },
        "id": "LT8OQliNlPO9",
        "outputId": "1b58ad74-3224-4507-a955-31a2aa77643a"
      },
      "execution_count": 69,
      "outputs": [
        {
          "output_type": "stream",
          "name": "stdout",
          "text": [
            "Daily Expected Shortfall: -0.0909\n",
            "Weekly Expected Shortfall: -0.2533\n"
          ]
        }
      ]
    },
    {
      "cell_type": "code",
      "source": [
        "# The End"
      ],
      "metadata": {
        "id": "7VptjutUlfNj"
      },
      "execution_count": 70,
      "outputs": []
    }
  ]
}