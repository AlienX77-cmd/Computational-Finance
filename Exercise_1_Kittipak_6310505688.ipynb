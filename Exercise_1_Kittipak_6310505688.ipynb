{
  "cells": [
    {
      "cell_type": "code",
      "execution_count": null,
      "metadata": {
        "id": "uabRSQUI95Io",
        "outputId": "cbf06dfc-ba6d-4cfd-c9ec-465d1ee9edb5"
      },
      "outputs": [
        {
          "name": "stdout",
          "output_type": "stream",
          "text": [
            "Populating the interactive namespace from numpy and matplotlib\n"
          ]
        }
      ],
      "source": [
        "#Kittipak Wibulsthien 6310505688\n",
        "import pandas as pd\n",
        "import matplotlib.pyplot as plt\n",
        "import quandl\n",
        "import yfinance as yf\n",
        "import time\n",
        "import numpy as np\n",
        "%matplotlib inline\n",
        "%pylab inline\n",
        "\n",
        "quandlAPIkey= \"API KEY\"\n",
        "quandl.ApiConfig.api_key = quandlAPIkey"
      ]
    },
    {
      "cell_type": "markdown",
      "metadata": {
        "id": "cERQ1Ocs95Iq"
      },
      "source": [
        "# Calculations of Daily Percentage Change(Daily Returns), Log Returns, and Cumulative Daily Returns"
      ]
    },
    {
      "cell_type": "markdown",
      "metadata": {
        "id": "c1UcfWwV95Is"
      },
      "source": [
        "## < 1. Platinum Fixing (USD AM) >"
      ]
    },
    {
      "cell_type": "code",
      "execution_count": null,
      "metadata": {
        "id": "4oXX4knA95It",
        "outputId": "0fb8a3df-1eaf-4b96-a4c7-0c30714110f9"
      },
      "outputs": [
        {
          "data": {
            "text/html": [
              "<div>\n",
              "<style scoped>\n",
              "    .dataframe tbody tr th:only-of-type {\n",
              "        vertical-align: middle;\n",
              "    }\n",
              "\n",
              "    .dataframe tbody tr th {\n",
              "        vertical-align: top;\n",
              "    }\n",
              "\n",
              "    .dataframe thead th {\n",
              "        text-align: right;\n",
              "    }\n",
              "</style>\n",
              "<table border=\"1\" class=\"dataframe\">\n",
              "  <thead>\n",
              "    <tr style=\"text-align: right;\">\n",
              "      <th></th>\n",
              "      <th>USD AM</th>\n",
              "      <th>Daily_return_pct</th>\n",
              "      <th>Daily_return_log</th>\n",
              "      <th>Cumulative_return</th>\n",
              "      <th>Cumulative_return_Comp</th>\n",
              "    </tr>\n",
              "    <tr>\n",
              "      <th>Date</th>\n",
              "      <th></th>\n",
              "      <th></th>\n",
              "      <th></th>\n",
              "      <th></th>\n",
              "      <th></th>\n",
              "    </tr>\n",
              "  </thead>\n",
              "  <tbody>\n",
              "    <tr>\n",
              "      <th>2021-04-09</th>\n",
              "      <td>1213.0</td>\n",
              "      <td>-0.013019</td>\n",
              "      <td>-0.013104</td>\n",
              "      <td>1.705261</td>\n",
              "      <td>2.575372</td>\n",
              "    </tr>\n",
              "    <tr>\n",
              "      <th>2021-04-12</th>\n",
              "      <td>1186.0</td>\n",
              "      <td>-0.022259</td>\n",
              "      <td>-0.022510</td>\n",
              "      <td>1.683002</td>\n",
              "      <td>2.518047</td>\n",
              "    </tr>\n",
              "    <tr>\n",
              "      <th>2021-04-13</th>\n",
              "      <td>1171.0</td>\n",
              "      <td>-0.012648</td>\n",
              "      <td>-0.012728</td>\n",
              "      <td>1.670354</td>\n",
              "      <td>2.486200</td>\n",
              "    </tr>\n",
              "    <tr>\n",
              "      <th>2021-04-14</th>\n",
              "      <td>1180.0</td>\n",
              "      <td>0.007686</td>\n",
              "      <td>0.007656</td>\n",
              "      <td>1.678040</td>\n",
              "      <td>2.505308</td>\n",
              "    </tr>\n",
              "    <tr>\n",
              "      <th>2021-04-15</th>\n",
              "      <td>1191.0</td>\n",
              "      <td>0.009322</td>\n",
              "      <td>0.009279</td>\n",
              "      <td>1.687362</td>\n",
              "      <td>2.528662</td>\n",
              "    </tr>\n",
              "  </tbody>\n",
              "</table>\n",
              "</div>"
            ],
            "text/plain": [
              "            USD AM  Daily_return_pct  Daily_return_log  Cumulative_return  \\\n",
              "Date                                                                        \n",
              "2021-04-09  1213.0         -0.013019         -0.013104           1.705261   \n",
              "2021-04-12  1186.0         -0.022259         -0.022510           1.683002   \n",
              "2021-04-13  1171.0         -0.012648         -0.012728           1.670354   \n",
              "2021-04-14  1180.0          0.007686          0.007656           1.678040   \n",
              "2021-04-15  1191.0          0.009322          0.009279           1.687362   \n",
              "\n",
              "            Cumulative_return_Comp  \n",
              "Date                                \n",
              "2021-04-09                2.575372  \n",
              "2021-04-12                2.518047  \n",
              "2021-04-13                2.486200  \n",
              "2021-04-14                2.505308  \n",
              "2021-04-15                2.528662  "
            ]
          },
          "execution_count": 168,
          "metadata": {},
          "output_type": "execute_result"
        }
      ],
      "source": [
        "dfr_plat = quandl.get('LPPM/PLAT.1')\n",
        "dfr_plat['Daily_return_pct'] = dfr_plat['USD AM'].pct_change(1)\n",
        "dfr_plat['Daily_return_log'] = np.log(dfr_plat['USD AM']/dfr_plat['USD AM'].shift(1))\n",
        "dfr_plat['Cumulative_return'] = np.cumsum(dfr_plat['Daily_return_pct'])\n",
        "dfr_plat['Cumulative_return_Comp'] = (1 + dfr_plat['Daily_return_pct']).cumprod()\n",
        "dfr_plat.tail()"
      ]
    },
    {
      "cell_type": "markdown",
      "metadata": {
        "id": "wAPzTXp595Iu"
      },
      "source": [
        "## < 2. Ethereum (ETH-USD) >"
      ]
    },
    {
      "cell_type": "code",
      "execution_count": null,
      "metadata": {
        "id": "qoLjYS3q95Iu",
        "outputId": "1d9a3ea6-1443-40ce-ba87-32496f15d58e"
      },
      "outputs": [
        {
          "name": "stdout",
          "output_type": "stream",
          "text": [
            "[*********************100%***********************]  1 of 1 completed\n"
          ]
        },
        {
          "data": {
            "text/html": [
              "<div>\n",
              "<style scoped>\n",
              "    .dataframe tbody tr th:only-of-type {\n",
              "        vertical-align: middle;\n",
              "    }\n",
              "\n",
              "    .dataframe tbody tr th {\n",
              "        vertical-align: top;\n",
              "    }\n",
              "\n",
              "    .dataframe thead th {\n",
              "        text-align: right;\n",
              "    }\n",
              "</style>\n",
              "<table border=\"1\" class=\"dataframe\">\n",
              "  <thead>\n",
              "    <tr style=\"text-align: right;\">\n",
              "      <th></th>\n",
              "      <th>Open</th>\n",
              "      <th>High</th>\n",
              "      <th>Low</th>\n",
              "      <th>Close</th>\n",
              "      <th>Adj Close</th>\n",
              "      <th>Volume</th>\n",
              "      <th>Daily_return_pct</th>\n",
              "      <th>Daily_return_log</th>\n",
              "      <th>Cumulative_return</th>\n",
              "      <th>Cumulative_return_Comp</th>\n",
              "    </tr>\n",
              "    <tr>\n",
              "      <th>Date</th>\n",
              "      <th></th>\n",
              "      <th></th>\n",
              "      <th></th>\n",
              "      <th></th>\n",
              "      <th></th>\n",
              "      <th></th>\n",
              "      <th></th>\n",
              "      <th></th>\n",
              "      <th></th>\n",
              "      <th></th>\n",
              "    </tr>\n",
              "  </thead>\n",
              "  <tbody>\n",
              "    <tr>\n",
              "      <th>2021-04-13</th>\n",
              "      <td>2139.364258</td>\n",
              "      <td>2318.423340</td>\n",
              "      <td>2138.559570</td>\n",
              "      <td>2299.187744</td>\n",
              "      <td>2299.187744</td>\n",
              "      <td>29456642939</td>\n",
              "      <td>0.074712</td>\n",
              "      <td>0.072052</td>\n",
              "      <td>11.267092</td>\n",
              "      <td>829.396904</td>\n",
              "    </tr>\n",
              "    <tr>\n",
              "      <th>2021-04-14</th>\n",
              "      <td>2299.347900</td>\n",
              "      <td>2449.687500</td>\n",
              "      <td>2284.563721</td>\n",
              "      <td>2435.104980</td>\n",
              "      <td>2435.104980</td>\n",
              "      <td>35592822986</td>\n",
              "      <td>0.059115</td>\n",
              "      <td>0.057434</td>\n",
              "      <td>11.326207</td>\n",
              "      <td>878.426973</td>\n",
              "    </tr>\n",
              "    <tr>\n",
              "      <th>2021-04-15</th>\n",
              "      <td>2436.034668</td>\n",
              "      <td>2544.267334</td>\n",
              "      <td>2409.924072</td>\n",
              "      <td>2519.116211</td>\n",
              "      <td>2519.116211</td>\n",
              "      <td>32325606817</td>\n",
              "      <td>0.034500</td>\n",
              "      <td>0.033918</td>\n",
              "      <td>11.360707</td>\n",
              "      <td>908.732743</td>\n",
              "    </tr>\n",
              "    <tr>\n",
              "      <th>2021-04-16</th>\n",
              "      <td>2516.601807</td>\n",
              "      <td>2547.555664</td>\n",
              "      <td>2318.675049</td>\n",
              "      <td>2431.946533</td>\n",
              "      <td>2431.946533</td>\n",
              "      <td>36196928256</td>\n",
              "      <td>-0.034603</td>\n",
              "      <td>-0.035216</td>\n",
              "      <td>11.326104</td>\n",
              "      <td>877.287612</td>\n",
              "    </tr>\n",
              "    <tr>\n",
              "      <th>2021-04-17</th>\n",
              "      <td>2488.684570</td>\n",
              "      <td>2497.183105</td>\n",
              "      <td>2436.967285</td>\n",
              "      <td>2470.085693</td>\n",
              "      <td>2470.085693</td>\n",
              "      <td>34290487296</td>\n",
              "      <td>0.015683</td>\n",
              "      <td>0.015561</td>\n",
              "      <td>11.341786</td>\n",
              "      <td>891.045732</td>\n",
              "    </tr>\n",
              "  </tbody>\n",
              "</table>\n",
              "</div>"
            ],
            "text/plain": [
              "                   Open         High          Low        Close    Adj Close  \\\n",
              "Date                                                                          \n",
              "2021-04-13  2139.364258  2318.423340  2138.559570  2299.187744  2299.187744   \n",
              "2021-04-14  2299.347900  2449.687500  2284.563721  2435.104980  2435.104980   \n",
              "2021-04-15  2436.034668  2544.267334  2409.924072  2519.116211  2519.116211   \n",
              "2021-04-16  2516.601807  2547.555664  2318.675049  2431.946533  2431.946533   \n",
              "2021-04-17  2488.684570  2497.183105  2436.967285  2470.085693  2470.085693   \n",
              "\n",
              "                 Volume  Daily_return_pct  Daily_return_log  \\\n",
              "Date                                                          \n",
              "2021-04-13  29456642939          0.074712          0.072052   \n",
              "2021-04-14  35592822986          0.059115          0.057434   \n",
              "2021-04-15  32325606817          0.034500          0.033918   \n",
              "2021-04-16  36196928256         -0.034603         -0.035216   \n",
              "2021-04-17  34290487296          0.015683          0.015561   \n",
              "\n",
              "            Cumulative_return  Cumulative_return_Comp  \n",
              "Date                                                   \n",
              "2021-04-13          11.267092              829.396904  \n",
              "2021-04-14          11.326207              878.426973  \n",
              "2021-04-15          11.360707              908.732743  \n",
              "2021-04-16          11.326104              877.287612  \n",
              "2021-04-17          11.341786              891.045732  "
            ]
          },
          "execution_count": 171,
          "metadata": {},
          "output_type": "execute_result"
        }
      ],
      "source": [
        "datar_ETH = yf.download(\"ETH-USD\")\n",
        "datar_ETH.fillna(method='bfill', inplace=True)\n",
        "datar_ETH['Daily_return_pct'] = datar_ETH[\"Adj Close\"].pct_change(1)\n",
        "datar_ETH['Daily_return_log'] = np.log(datar_ETH[\"Adj Close\"]/datar_ETH[\"Adj Close\"].shift(1))\n",
        "datar_ETH['Cumulative_return'] = np.cumsum(datar_ETH['Daily_return_pct'])\n",
        "datar_ETH['Cumulative_return_Comp'] = (1 + datar_ETH['Daily_return_pct']).cumprod()\n",
        "datar_ETH.tail()"
      ]
    },
    {
      "cell_type": "markdown",
      "metadata": {
        "id": "UcCdLUZc95Iv"
      },
      "source": [
        "## < 3. Alphabet Inc. (GOOG) (USD) >"
      ]
    },
    {
      "cell_type": "code",
      "execution_count": null,
      "metadata": {
        "id": "5wtxdP1K95Iv",
        "outputId": "9b6fddce-b490-44a5-ab92-85012117dd53"
      },
      "outputs": [
        {
          "name": "stdout",
          "output_type": "stream",
          "text": [
            "[*********************100%***********************]  1 of 1 completed\n"
          ]
        },
        {
          "data": {
            "text/html": [
              "<div>\n",
              "<style scoped>\n",
              "    .dataframe tbody tr th:only-of-type {\n",
              "        vertical-align: middle;\n",
              "    }\n",
              "\n",
              "    .dataframe tbody tr th {\n",
              "        vertical-align: top;\n",
              "    }\n",
              "\n",
              "    .dataframe thead th {\n",
              "        text-align: right;\n",
              "    }\n",
              "</style>\n",
              "<table border=\"1\" class=\"dataframe\">\n",
              "  <thead>\n",
              "    <tr style=\"text-align: right;\">\n",
              "      <th></th>\n",
              "      <th>Open</th>\n",
              "      <th>High</th>\n",
              "      <th>Low</th>\n",
              "      <th>Close</th>\n",
              "      <th>Adj Close</th>\n",
              "      <th>Volume</th>\n",
              "      <th>Daily_return_pct</th>\n",
              "      <th>Daily_return_log</th>\n",
              "      <th>Cumulative_return</th>\n",
              "      <th>Cumulative_return_Comp</th>\n",
              "    </tr>\n",
              "    <tr>\n",
              "      <th>Date</th>\n",
              "      <th></th>\n",
              "      <th></th>\n",
              "      <th></th>\n",
              "      <th></th>\n",
              "      <th></th>\n",
              "      <th></th>\n",
              "      <th></th>\n",
              "      <th></th>\n",
              "      <th></th>\n",
              "      <th></th>\n",
              "    </tr>\n",
              "  </thead>\n",
              "  <tbody>\n",
              "    <tr>\n",
              "      <th>2021-04-12</th>\n",
              "      <td>2266.250000</td>\n",
              "      <td>2275.320068</td>\n",
              "      <td>2238.465088</td>\n",
              "      <td>2254.790039</td>\n",
              "      <td>2254.790039</td>\n",
              "      <td>1565900</td>\n",
              "      <td>-0.013601</td>\n",
              "      <td>-0.013694</td>\n",
              "      <td>4.581297</td>\n",
              "      <td>45.111450</td>\n",
              "    </tr>\n",
              "    <tr>\n",
              "      <th>2021-04-13</th>\n",
              "      <td>2261.469971</td>\n",
              "      <td>2277.209961</td>\n",
              "      <td>2256.090088</td>\n",
              "      <td>2267.270020</td>\n",
              "      <td>2267.270020</td>\n",
              "      <td>1165500</td>\n",
              "      <td>0.005535</td>\n",
              "      <td>0.005520</td>\n",
              "      <td>4.586832</td>\n",
              "      <td>45.361137</td>\n",
              "    </tr>\n",
              "    <tr>\n",
              "      <th>2021-04-14</th>\n",
              "      <td>2275.159912</td>\n",
              "      <td>2277.989990</td>\n",
              "      <td>2249.189941</td>\n",
              "      <td>2254.840088</td>\n",
              "      <td>2254.840088</td>\n",
              "      <td>1011000</td>\n",
              "      <td>-0.005482</td>\n",
              "      <td>-0.005497</td>\n",
              "      <td>4.581350</td>\n",
              "      <td>45.112452</td>\n",
              "    </tr>\n",
              "    <tr>\n",
              "      <th>2021-04-15</th>\n",
              "      <td>2276.979980</td>\n",
              "      <td>2306.596924</td>\n",
              "      <td>2266.000000</td>\n",
              "      <td>2296.659912</td>\n",
              "      <td>2296.659912</td>\n",
              "      <td>1373600</td>\n",
              "      <td>0.018547</td>\n",
              "      <td>0.018377</td>\n",
              "      <td>4.599896</td>\n",
              "      <td>45.949138</td>\n",
              "    </tr>\n",
              "    <tr>\n",
              "      <th>2021-04-16</th>\n",
              "      <td>2303.000000</td>\n",
              "      <td>2306.439941</td>\n",
              "      <td>2284.449951</td>\n",
              "      <td>2297.760010</td>\n",
              "      <td>2297.760010</td>\n",
              "      <td>1129800</td>\n",
              "      <td>0.000479</td>\n",
              "      <td>0.000479</td>\n",
              "      <td>4.600375</td>\n",
              "      <td>45.971148</td>\n",
              "    </tr>\n",
              "  </tbody>\n",
              "</table>\n",
              "</div>"
            ],
            "text/plain": [
              "                   Open         High          Low        Close    Adj Close  \\\n",
              "Date                                                                          \n",
              "2021-04-12  2266.250000  2275.320068  2238.465088  2254.790039  2254.790039   \n",
              "2021-04-13  2261.469971  2277.209961  2256.090088  2267.270020  2267.270020   \n",
              "2021-04-14  2275.159912  2277.989990  2249.189941  2254.840088  2254.840088   \n",
              "2021-04-15  2276.979980  2306.596924  2266.000000  2296.659912  2296.659912   \n",
              "2021-04-16  2303.000000  2306.439941  2284.449951  2297.760010  2297.760010   \n",
              "\n",
              "             Volume  Daily_return_pct  Daily_return_log  Cumulative_return  \\\n",
              "Date                                                                         \n",
              "2021-04-12  1565900         -0.013601         -0.013694           4.581297   \n",
              "2021-04-13  1165500          0.005535          0.005520           4.586832   \n",
              "2021-04-14  1011000         -0.005482         -0.005497           4.581350   \n",
              "2021-04-15  1373600          0.018547          0.018377           4.599896   \n",
              "2021-04-16  1129800          0.000479          0.000479           4.600375   \n",
              "\n",
              "            Cumulative_return_Comp  \n",
              "Date                                \n",
              "2021-04-12               45.111450  \n",
              "2021-04-13               45.361137  \n",
              "2021-04-14               45.112452  \n",
              "2021-04-15               45.949138  \n",
              "2021-04-16               45.971148  "
            ]
          },
          "execution_count": 172,
          "metadata": {},
          "output_type": "execute_result"
        }
      ],
      "source": [
        "datar_GOOG = yf.download(\"GOOG\")\n",
        "datar_GOOG.fillna(method='bfill', inplace=True)\n",
        "datar_GOOG['Daily_return_pct'] = datar_GOOG[\"Adj Close\"].pct_change(1)\n",
        "datar_GOOG['Daily_return_log'] = np.log(datar_GOOG[\"Adj Close\"]/datar_GOOG[\"Adj Close\"].shift(1))\n",
        "datar_GOOG['Cumulative_return'] = np.cumsum(datar_GOOG['Daily_return_pct'])\n",
        "datar_GOOG['Cumulative_return_Comp'] = (1 + datar_GOOG['Daily_return_pct']).cumprod()\n",
        "datar_GOOG.tail()"
      ]
    },
    {
      "cell_type": "markdown",
      "metadata": {
        "id": "nLB_Hotp95Iw"
      },
      "source": [
        "## < 4. Tesla, Inc. (TSLA) (USD) >"
      ]
    },
    {
      "cell_type": "code",
      "execution_count": null,
      "metadata": {
        "id": "XzoEtEaN95Ix",
        "outputId": "4f69a458-228d-4442-99b1-2b73459f73fa"
      },
      "outputs": [
        {
          "name": "stdout",
          "output_type": "stream",
          "text": [
            "[*********************100%***********************]  1 of 1 completed\n"
          ]
        },
        {
          "data": {
            "text/html": [
              "<div>\n",
              "<style scoped>\n",
              "    .dataframe tbody tr th:only-of-type {\n",
              "        vertical-align: middle;\n",
              "    }\n",
              "\n",
              "    .dataframe tbody tr th {\n",
              "        vertical-align: top;\n",
              "    }\n",
              "\n",
              "    .dataframe thead th {\n",
              "        text-align: right;\n",
              "    }\n",
              "</style>\n",
              "<table border=\"1\" class=\"dataframe\">\n",
              "  <thead>\n",
              "    <tr style=\"text-align: right;\">\n",
              "      <th></th>\n",
              "      <th>Open</th>\n",
              "      <th>High</th>\n",
              "      <th>Low</th>\n",
              "      <th>Close</th>\n",
              "      <th>Adj Close</th>\n",
              "      <th>Volume</th>\n",
              "      <th>Daily_return_pct</th>\n",
              "      <th>Daily_return_log</th>\n",
              "      <th>Cumulative_return</th>\n",
              "      <th>Cumulative_return_Comp</th>\n",
              "    </tr>\n",
              "    <tr>\n",
              "      <th>Date</th>\n",
              "      <th></th>\n",
              "      <th></th>\n",
              "      <th></th>\n",
              "      <th></th>\n",
              "      <th></th>\n",
              "      <th></th>\n",
              "      <th></th>\n",
              "      <th></th>\n",
              "      <th></th>\n",
              "      <th></th>\n",
              "    </tr>\n",
              "  </thead>\n",
              "  <tbody>\n",
              "    <tr>\n",
              "      <th>2021-04-12</th>\n",
              "      <td>685.700012</td>\n",
              "      <td>704.799988</td>\n",
              "      <td>682.090027</td>\n",
              "      <td>701.979980</td>\n",
              "      <td>701.979980</td>\n",
              "      <td>29135700</td>\n",
              "      <td>0.036867</td>\n",
              "      <td>0.036204</td>\n",
              "      <td>6.715312</td>\n",
              "      <td>146.919213</td>\n",
              "    </tr>\n",
              "    <tr>\n",
              "      <th>2021-04-13</th>\n",
              "      <td>712.700012</td>\n",
              "      <td>763.000000</td>\n",
              "      <td>710.659973</td>\n",
              "      <td>762.320007</td>\n",
              "      <td>762.320007</td>\n",
              "      <td>44652800</td>\n",
              "      <td>0.085957</td>\n",
              "      <td>0.082462</td>\n",
              "      <td>6.801269</td>\n",
              "      <td>159.547934</td>\n",
              "    </tr>\n",
              "    <tr>\n",
              "      <th>2021-04-14</th>\n",
              "      <td>770.700012</td>\n",
              "      <td>780.789978</td>\n",
              "      <td>728.030029</td>\n",
              "      <td>732.229980</td>\n",
              "      <td>732.229980</td>\n",
              "      <td>49017400</td>\n",
              "      <td>-0.039472</td>\n",
              "      <td>-0.040272</td>\n",
              "      <td>6.761797</td>\n",
              "      <td>153.250314</td>\n",
              "    </tr>\n",
              "    <tr>\n",
              "      <th>2021-04-15</th>\n",
              "      <td>743.099976</td>\n",
              "      <td>743.690002</td>\n",
              "      <td>721.309998</td>\n",
              "      <td>738.849976</td>\n",
              "      <td>738.849976</td>\n",
              "      <td>27848900</td>\n",
              "      <td>0.009041</td>\n",
              "      <td>0.009000</td>\n",
              "      <td>6.770838</td>\n",
              "      <td>154.635830</td>\n",
              "    </tr>\n",
              "    <tr>\n",
              "      <th>2021-04-16</th>\n",
              "      <td>728.650024</td>\n",
              "      <td>749.409973</td>\n",
              "      <td>724.599976</td>\n",
              "      <td>739.780029</td>\n",
              "      <td>739.780029</td>\n",
              "      <td>27924000</td>\n",
              "      <td>0.001259</td>\n",
              "      <td>0.001258</td>\n",
              "      <td>6.772097</td>\n",
              "      <td>154.830483</td>\n",
              "    </tr>\n",
              "  </tbody>\n",
              "</table>\n",
              "</div>"
            ],
            "text/plain": [
              "                  Open        High         Low       Close   Adj Close  \\\n",
              "Date                                                                     \n",
              "2021-04-12  685.700012  704.799988  682.090027  701.979980  701.979980   \n",
              "2021-04-13  712.700012  763.000000  710.659973  762.320007  762.320007   \n",
              "2021-04-14  770.700012  780.789978  728.030029  732.229980  732.229980   \n",
              "2021-04-15  743.099976  743.690002  721.309998  738.849976  738.849976   \n",
              "2021-04-16  728.650024  749.409973  724.599976  739.780029  739.780029   \n",
              "\n",
              "              Volume  Daily_return_pct  Daily_return_log  Cumulative_return  \\\n",
              "Date                                                                          \n",
              "2021-04-12  29135700          0.036867          0.036204           6.715312   \n",
              "2021-04-13  44652800          0.085957          0.082462           6.801269   \n",
              "2021-04-14  49017400         -0.039472         -0.040272           6.761797   \n",
              "2021-04-15  27848900          0.009041          0.009000           6.770838   \n",
              "2021-04-16  27924000          0.001259          0.001258           6.772097   \n",
              "\n",
              "            Cumulative_return_Comp  \n",
              "Date                                \n",
              "2021-04-12              146.919213  \n",
              "2021-04-13              159.547934  \n",
              "2021-04-14              153.250314  \n",
              "2021-04-15              154.635830  \n",
              "2021-04-16              154.830483  "
            ]
          },
          "execution_count": 173,
          "metadata": {},
          "output_type": "execute_result"
        }
      ],
      "source": [
        "datar_TSLA = yf.download(\"TSLA\")\n",
        "datar_TSLA.fillna(method='bfill', inplace=True)\n",
        "datar_TSLA['Daily_return_pct'] = datar_TSLA[\"Adj Close\"].pct_change(1)\n",
        "datar_TSLA['Daily_return_log'] = np.log(datar_TSLA[\"Adj Close\"]/datar_TSLA[\"Adj Close\"].shift(1))\n",
        "datar_TSLA['Cumulative_return'] = np.cumsum(datar_TSLA['Daily_return_pct'])\n",
        "datar_TSLA['Cumulative_return_Comp'] = (1 + datar_TSLA['Daily_return_pct']).cumprod()\n",
        "datar_TSLA.tail()"
      ]
    },
    {
      "cell_type": "markdown",
      "metadata": {
        "id": "85ZwFXdv95Iy"
      },
      "source": [
        "# Plotting returns"
      ]
    },
    {
      "cell_type": "markdown",
      "metadata": {
        "id": "mtQ0qjLW95Iy"
      },
      "source": [
        "## < 1. Platinum Fixing (USD AM) >"
      ]
    },
    {
      "cell_type": "code",
      "execution_count": null,
      "metadata": {
        "id": "jG3PPfk995Iz",
        "outputId": "135f88e1-dbc1-498d-d289-0880f378b3de"
      },
      "outputs": [
        {
          "data": {
            "text/html": [
              "<div>\n",
              "<style scoped>\n",
              "    .dataframe tbody tr th:only-of-type {\n",
              "        vertical-align: middle;\n",
              "    }\n",
              "\n",
              "    .dataframe tbody tr th {\n",
              "        vertical-align: top;\n",
              "    }\n",
              "\n",
              "    .dataframe thead th {\n",
              "        text-align: right;\n",
              "    }\n",
              "</style>\n",
              "<table border=\"1\" class=\"dataframe\">\n",
              "  <thead>\n",
              "    <tr style=\"text-align: right;\">\n",
              "      <th></th>\n",
              "      <th>USD AM</th>\n",
              "    </tr>\n",
              "    <tr>\n",
              "      <th>Date</th>\n",
              "      <th></th>\n",
              "    </tr>\n",
              "  </thead>\n",
              "  <tbody>\n",
              "    <tr>\n",
              "      <th>2021-04-09</th>\n",
              "      <td>1213.0</td>\n",
              "    </tr>\n",
              "    <tr>\n",
              "      <th>2021-04-12</th>\n",
              "      <td>1186.0</td>\n",
              "    </tr>\n",
              "    <tr>\n",
              "      <th>2021-04-13</th>\n",
              "      <td>1171.0</td>\n",
              "    </tr>\n",
              "    <tr>\n",
              "      <th>2021-04-14</th>\n",
              "      <td>1180.0</td>\n",
              "    </tr>\n",
              "    <tr>\n",
              "      <th>2021-04-15</th>\n",
              "      <td>1191.0</td>\n",
              "    </tr>\n",
              "  </tbody>\n",
              "</table>\n",
              "</div>"
            ],
            "text/plain": [
              "            USD AM\n",
              "Date              \n",
              "2021-04-09  1213.0\n",
              "2021-04-12  1186.0\n",
              "2021-04-13  1171.0\n",
              "2021-04-14  1180.0\n",
              "2021-04-15  1191.0"
            ]
          },
          "execution_count": 2,
          "metadata": {},
          "output_type": "execute_result"
        }
      ],
      "source": [
        "df_plat = quandl.get('LPPM/PLAT.1')\n",
        "df_plat.tail()"
      ]
    },
    {
      "cell_type": "code",
      "execution_count": null,
      "metadata": {
        "id": "M5T1YXf195I0",
        "outputId": "a467da33-a73e-409f-bdc8-82e0a52e443e"
      },
      "outputs": [
        {
          "data": {
            "image/png": "[encoded data removed]",
            "text/plain": [
              "<Figure size 432x288 with 1 Axes>"
            ]
          },
          "metadata": {
            "needs_background": "light"
          },
          "output_type": "display_data"
        }
      ],
      "source": [
        "daily_changes_plat = df_plat.pct_change(periods=1)\n",
        "daily_changes_plat.plot();"
      ]
    },
    {
      "cell_type": "markdown",
      "metadata": {
        "id": "peeCzwFG95I0"
      },
      "source": [
        "## < 2. Ethereum (ETH-USD) >"
      ]
    },
    {
      "cell_type": "code",
      "execution_count": null,
      "metadata": {
        "id": "_U7jF6Aw95I0",
        "outputId": "1c4031c8-b9d3-4ca1-97fd-057ee570d251"
      },
      "outputs": [
        {
          "name": "stdout",
          "output_type": "stream",
          "text": [
            "[*********************100%***********************]  1 of 1 completed\n"
          ]
        }
      ],
      "source": [
        "data_ETH = yf.download(\"ETH-USD\")\n",
        "data_ETH.fillna(method='bfill', inplace=True)"
      ]
    },
    {
      "cell_type": "code",
      "execution_count": null,
      "metadata": {
        "id": "49dPXLIk95I0",
        "outputId": "0777aa8d-44b0-4915-b29e-89274a1d7870"
      },
      "outputs": [
        {
          "data": {
            "text/html": [
              "<div>\n",
              "<style scoped>\n",
              "    .dataframe tbody tr th:only-of-type {\n",
              "        vertical-align: middle;\n",
              "    }\n",
              "\n",
              "    .dataframe tbody tr th {\n",
              "        vertical-align: top;\n",
              "    }\n",
              "\n",
              "    .dataframe thead th {\n",
              "        text-align: right;\n",
              "    }\n",
              "</style>\n",
              "<table border=\"1\" class=\"dataframe\">\n",
              "  <thead>\n",
              "    <tr style=\"text-align: right;\">\n",
              "      <th></th>\n",
              "      <th>Open</th>\n",
              "      <th>High</th>\n",
              "      <th>Low</th>\n",
              "      <th>Close</th>\n",
              "      <th>Adj Close</th>\n",
              "      <th>Volume</th>\n",
              "    </tr>\n",
              "    <tr>\n",
              "      <th>Date</th>\n",
              "      <th></th>\n",
              "      <th></th>\n",
              "      <th></th>\n",
              "      <th></th>\n",
              "      <th></th>\n",
              "      <th></th>\n",
              "    </tr>\n",
              "  </thead>\n",
              "  <tbody>\n",
              "    <tr>\n",
              "      <th>2021-04-13</th>\n",
              "      <td>2139.364258</td>\n",
              "      <td>2318.423340</td>\n",
              "      <td>2138.559570</td>\n",
              "      <td>2299.187744</td>\n",
              "      <td>2299.187744</td>\n",
              "      <td>29456642939</td>\n",
              "    </tr>\n",
              "    <tr>\n",
              "      <th>2021-04-14</th>\n",
              "      <td>2299.347900</td>\n",
              "      <td>2449.687500</td>\n",
              "      <td>2284.563721</td>\n",
              "      <td>2435.104980</td>\n",
              "      <td>2435.104980</td>\n",
              "      <td>35592822986</td>\n",
              "    </tr>\n",
              "    <tr>\n",
              "      <th>2021-04-15</th>\n",
              "      <td>2436.034668</td>\n",
              "      <td>2544.267334</td>\n",
              "      <td>2409.924072</td>\n",
              "      <td>2519.116211</td>\n",
              "      <td>2519.116211</td>\n",
              "      <td>32325606817</td>\n",
              "    </tr>\n",
              "    <tr>\n",
              "      <th>2021-04-16</th>\n",
              "      <td>2516.601807</td>\n",
              "      <td>2547.555664</td>\n",
              "      <td>2318.675049</td>\n",
              "      <td>2431.946533</td>\n",
              "      <td>2431.946533</td>\n",
              "      <td>36196928256</td>\n",
              "    </tr>\n",
              "    <tr>\n",
              "      <th>2021-04-17</th>\n",
              "      <td>2488.684570</td>\n",
              "      <td>2497.183105</td>\n",
              "      <td>2436.967285</td>\n",
              "      <td>2485.725098</td>\n",
              "      <td>2485.725098</td>\n",
              "      <td>36580569088</td>\n",
              "    </tr>\n",
              "  </tbody>\n",
              "</table>\n",
              "</div>"
            ],
            "text/plain": [
              "                   Open         High          Low        Close    Adj Close  \\\n",
              "Date                                                                          \n",
              "2021-04-13  2139.364258  2318.423340  2138.559570  2299.187744  2299.187744   \n",
              "2021-04-14  2299.347900  2449.687500  2284.563721  2435.104980  2435.104980   \n",
              "2021-04-15  2436.034668  2544.267334  2409.924072  2519.116211  2519.116211   \n",
              "2021-04-16  2516.601807  2547.555664  2318.675049  2431.946533  2431.946533   \n",
              "2021-04-17  2488.684570  2497.183105  2436.967285  2485.725098  2485.725098   \n",
              "\n",
              "                 Volume  \n",
              "Date                     \n",
              "2021-04-13  29456642939  \n",
              "2021-04-14  35592822986  \n",
              "2021-04-15  32325606817  \n",
              "2021-04-16  36196928256  \n",
              "2021-04-17  36580569088  "
            ]
          },
          "execution_count": 5,
          "metadata": {},
          "output_type": "execute_result"
        }
      ],
      "source": [
        "data_ETH.tail()"
      ]
    },
    {
      "cell_type": "code",
      "execution_count": null,
      "metadata": {
        "id": "yctBUMsU95I1",
        "outputId": "4423b69a-8dab-4fa9-a2df-6e8930c965fd"
      },
      "outputs": [
        {
          "data": {
            "text/plain": [
              "Date\n",
              "2021-04-13    2299.187744\n",
              "2021-04-14    2435.104980\n",
              "2021-04-15    2519.116211\n",
              "2021-04-16    2431.946533\n",
              "2021-04-17    2485.725098\n",
              "Name: Adj Close, dtype: float64"
            ]
          },
          "execution_count": 6,
          "metadata": {},
          "output_type": "execute_result"
        }
      ],
      "source": [
        "data_ETH[\"Adj Close\"].tail()"
      ]
    },
    {
      "cell_type": "code",
      "execution_count": null,
      "metadata": {
        "id": "fJB9slQn95I1",
        "outputId": "6aaabd18-e709-4480-d169-5eeeb0614f5c"
      },
      "outputs": [
        {
          "data": {
            "image/png": "[encoded data removed]",
            "text/plain": [
              "<Figure size 432x288 with 1 Axes>"
            ]
          },
          "metadata": {
            "needs_background": "light"
          },
          "output_type": "display_data"
        }
      ],
      "source": [
        "daily_changes_ETH = data_ETH[\"Adj Close\"].pct_change(periods=1)\n",
        "daily_changes_ETH.plot();"
      ]
    },
    {
      "cell_type": "markdown",
      "metadata": {
        "id": "BhUCBssj95I2"
      },
      "source": [
        "## < 3. Alphabet Inc. (GOOG) (USD) >"
      ]
    },
    {
      "cell_type": "code",
      "execution_count": null,
      "metadata": {
        "id": "GHRDKuZn95I2",
        "outputId": "75a6b3aa-61fb-4165-99b3-e942d51b0e10"
      },
      "outputs": [
        {
          "name": "stdout",
          "output_type": "stream",
          "text": [
            "[*********************100%***********************]  1 of 1 completed\n"
          ]
        }
      ],
      "source": [
        "data_GOOG = yf.download(\"GOOG\")\n",
        "data_GOOG.fillna(method='bfill', inplace=True)"
      ]
    },
    {
      "cell_type": "code",
      "execution_count": null,
      "metadata": {
        "id": "7Lfsngtx95I3",
        "outputId": "20ff108b-b525-44dd-d6e5-85970f536332"
      },
      "outputs": [
        {
          "data": {
            "text/html": [
              "<div>\n",
              "<style scoped>\n",
              "    .dataframe tbody tr th:only-of-type {\n",
              "        vertical-align: middle;\n",
              "    }\n",
              "\n",
              "    .dataframe tbody tr th {\n",
              "        vertical-align: top;\n",
              "    }\n",
              "\n",
              "    .dataframe thead th {\n",
              "        text-align: right;\n",
              "    }\n",
              "</style>\n",
              "<table border=\"1\" class=\"dataframe\">\n",
              "  <thead>\n",
              "    <tr style=\"text-align: right;\">\n",
              "      <th></th>\n",
              "      <th>Open</th>\n",
              "      <th>High</th>\n",
              "      <th>Low</th>\n",
              "      <th>Close</th>\n",
              "      <th>Adj Close</th>\n",
              "      <th>Volume</th>\n",
              "    </tr>\n",
              "    <tr>\n",
              "      <th>Date</th>\n",
              "      <th></th>\n",
              "      <th></th>\n",
              "      <th></th>\n",
              "      <th></th>\n",
              "      <th></th>\n",
              "      <th></th>\n",
              "    </tr>\n",
              "  </thead>\n",
              "  <tbody>\n",
              "    <tr>\n",
              "      <th>2021-04-12</th>\n",
              "      <td>2266.250000</td>\n",
              "      <td>2275.320068</td>\n",
              "      <td>2238.465088</td>\n",
              "      <td>2254.790039</td>\n",
              "      <td>2254.790039</td>\n",
              "      <td>1565900</td>\n",
              "    </tr>\n",
              "    <tr>\n",
              "      <th>2021-04-13</th>\n",
              "      <td>2261.469971</td>\n",
              "      <td>2277.209961</td>\n",
              "      <td>2256.090088</td>\n",
              "      <td>2267.270020</td>\n",
              "      <td>2267.270020</td>\n",
              "      <td>1165500</td>\n",
              "    </tr>\n",
              "    <tr>\n",
              "      <th>2021-04-14</th>\n",
              "      <td>2275.159912</td>\n",
              "      <td>2277.989990</td>\n",
              "      <td>2249.189941</td>\n",
              "      <td>2254.840088</td>\n",
              "      <td>2254.840088</td>\n",
              "      <td>1011000</td>\n",
              "    </tr>\n",
              "    <tr>\n",
              "      <th>2021-04-15</th>\n",
              "      <td>2276.979980</td>\n",
              "      <td>2306.596924</td>\n",
              "      <td>2266.000000</td>\n",
              "      <td>2296.659912</td>\n",
              "      <td>2296.659912</td>\n",
              "      <td>1373600</td>\n",
              "    </tr>\n",
              "    <tr>\n",
              "      <th>2021-04-16</th>\n",
              "      <td>2303.000000</td>\n",
              "      <td>2306.439941</td>\n",
              "      <td>2284.449951</td>\n",
              "      <td>2297.760010</td>\n",
              "      <td>2297.760010</td>\n",
              "      <td>1129800</td>\n",
              "    </tr>\n",
              "  </tbody>\n",
              "</table>\n",
              "</div>"
            ],
            "text/plain": [
              "                   Open         High          Low        Close    Adj Close  \\\n",
              "Date                                                                          \n",
              "2021-04-12  2266.250000  2275.320068  2238.465088  2254.790039  2254.790039   \n",
              "2021-04-13  2261.469971  2277.209961  2256.090088  2267.270020  2267.270020   \n",
              "2021-04-14  2275.159912  2277.989990  2249.189941  2254.840088  2254.840088   \n",
              "2021-04-15  2276.979980  2306.596924  2266.000000  2296.659912  2296.659912   \n",
              "2021-04-16  2303.000000  2306.439941  2284.449951  2297.760010  2297.760010   \n",
              "\n",
              "             Volume  \n",
              "Date                 \n",
              "2021-04-12  1565900  \n",
              "2021-04-13  1165500  \n",
              "2021-04-14  1011000  \n",
              "2021-04-15  1373600  \n",
              "2021-04-16  1129800  "
            ]
          },
          "execution_count": 9,
          "metadata": {},
          "output_type": "execute_result"
        }
      ],
      "source": [
        "data_GOOG.tail()"
      ]
    },
    {
      "cell_type": "code",
      "execution_count": null,
      "metadata": {
        "id": "hebZWZD-95I3",
        "outputId": "28ff5945-f8b2-46b0-a5ed-f20e9e8908ee"
      },
      "outputs": [
        {
          "data": {
            "text/plain": [
              "Date\n",
              "2021-04-12    2254.790039\n",
              "2021-04-13    2267.270020\n",
              "2021-04-14    2254.840088\n",
              "2021-04-15    2296.659912\n",
              "2021-04-16    2297.760010\n",
              "Name: Adj Close, dtype: float64"
            ]
          },
          "execution_count": 10,
          "metadata": {},
          "output_type": "execute_result"
        }
      ],
      "source": [
        "data_GOOG[\"Adj Close\"].tail()"
      ]
    },
    {
      "cell_type": "code",
      "execution_count": null,
      "metadata": {
        "id": "NjAPaSz395I3",
        "outputId": "4a2688ca-49c1-4e70-e2de-6831103d0378"
      },
      "outputs": [
        {
          "data": {
            "image/png": "[encoded data removed]",
            "text/plain": [
              "<Figure size 432x288 with 1 Axes>"
            ]
          },
          "metadata": {
            "needs_background": "light"
          },
          "output_type": "display_data"
        }
      ],
      "source": [
        "daily_changes_GOOG = data_GOOG[\"Adj Close\"].pct_change(periods=1)\n",
        "daily_changes_GOOG.plot();"
      ]
    },
    {
      "cell_type": "markdown",
      "metadata": {
        "id": "aEnhwwEi95I4"
      },
      "source": [
        "## < 4. Tesla, Inc. (TSLA) (USD) >"
      ]
    },
    {
      "cell_type": "code",
      "execution_count": null,
      "metadata": {
        "id": "8qiQlKhM95I4",
        "outputId": "837e5458-2b9b-4d0b-f519-f1058158789e"
      },
      "outputs": [
        {
          "name": "stdout",
          "output_type": "stream",
          "text": [
            "[*********************100%***********************]  1 of 1 completed\n"
          ]
        }
      ],
      "source": [
        "data_TSLA = yf.download(\"TSLA\")\n",
        "data_TSLA.fillna(method='bfill', inplace=True)"
      ]
    },
    {
      "cell_type": "code",
      "execution_count": null,
      "metadata": {
        "id": "lo0pP2hJ95I4",
        "outputId": "3bf3b5f4-fbbd-442a-a5fc-e211906c0423"
      },
      "outputs": [
        {
          "data": {
            "text/html": [
              "<div>\n",
              "<style scoped>\n",
              "    .dataframe tbody tr th:only-of-type {\n",
              "        vertical-align: middle;\n",
              "    }\n",
              "\n",
              "    .dataframe tbody tr th {\n",
              "        vertical-align: top;\n",
              "    }\n",
              "\n",
              "    .dataframe thead th {\n",
              "        text-align: right;\n",
              "    }\n",
              "</style>\n",
              "<table border=\"1\" class=\"dataframe\">\n",
              "  <thead>\n",
              "    <tr style=\"text-align: right;\">\n",
              "      <th></th>\n",
              "      <th>Open</th>\n",
              "      <th>High</th>\n",
              "      <th>Low</th>\n",
              "      <th>Close</th>\n",
              "      <th>Adj Close</th>\n",
              "      <th>Volume</th>\n",
              "    </tr>\n",
              "    <tr>\n",
              "      <th>Date</th>\n",
              "      <th></th>\n",
              "      <th></th>\n",
              "      <th></th>\n",
              "      <th></th>\n",
              "      <th></th>\n",
              "      <th></th>\n",
              "    </tr>\n",
              "  </thead>\n",
              "  <tbody>\n",
              "    <tr>\n",
              "      <th>2021-04-12</th>\n",
              "      <td>685.700012</td>\n",
              "      <td>704.799988</td>\n",
              "      <td>682.090027</td>\n",
              "      <td>701.979980</td>\n",
              "      <td>701.979980</td>\n",
              "      <td>29135700</td>\n",
              "    </tr>\n",
              "    <tr>\n",
              "      <th>2021-04-13</th>\n",
              "      <td>712.700012</td>\n",
              "      <td>763.000000</td>\n",
              "      <td>710.659973</td>\n",
              "      <td>762.320007</td>\n",
              "      <td>762.320007</td>\n",
              "      <td>44652800</td>\n",
              "    </tr>\n",
              "    <tr>\n",
              "      <th>2021-04-14</th>\n",
              "      <td>770.700012</td>\n",
              "      <td>780.789978</td>\n",
              "      <td>728.030029</td>\n",
              "      <td>732.229980</td>\n",
              "      <td>732.229980</td>\n",
              "      <td>49017400</td>\n",
              "    </tr>\n",
              "    <tr>\n",
              "      <th>2021-04-15</th>\n",
              "      <td>743.099976</td>\n",
              "      <td>743.690002</td>\n",
              "      <td>721.309998</td>\n",
              "      <td>738.849976</td>\n",
              "      <td>738.849976</td>\n",
              "      <td>27848900</td>\n",
              "    </tr>\n",
              "    <tr>\n",
              "      <th>2021-04-16</th>\n",
              "      <td>728.650024</td>\n",
              "      <td>749.409973</td>\n",
              "      <td>724.599976</td>\n",
              "      <td>739.780029</td>\n",
              "      <td>739.780029</td>\n",
              "      <td>27924000</td>\n",
              "    </tr>\n",
              "  </tbody>\n",
              "</table>\n",
              "</div>"
            ],
            "text/plain": [
              "                  Open        High         Low       Close   Adj Close  \\\n",
              "Date                                                                     \n",
              "2021-04-12  685.700012  704.799988  682.090027  701.979980  701.979980   \n",
              "2021-04-13  712.700012  763.000000  710.659973  762.320007  762.320007   \n",
              "2021-04-14  770.700012  780.789978  728.030029  732.229980  732.229980   \n",
              "2021-04-15  743.099976  743.690002  721.309998  738.849976  738.849976   \n",
              "2021-04-16  728.650024  749.409973  724.599976  739.780029  739.780029   \n",
              "\n",
              "              Volume  \n",
              "Date                  \n",
              "2021-04-12  29135700  \n",
              "2021-04-13  44652800  \n",
              "2021-04-14  49017400  \n",
              "2021-04-15  27848900  \n",
              "2021-04-16  27924000  "
            ]
          },
          "execution_count": 13,
          "metadata": {},
          "output_type": "execute_result"
        }
      ],
      "source": [
        "data_TSLA.tail()"
      ]
    },
    {
      "cell_type": "code",
      "execution_count": null,
      "metadata": {
        "id": "bAZp2dpk95I5",
        "outputId": "bd6845f8-4a1b-42f4-f210-c7aee62e3cf7"
      },
      "outputs": [
        {
          "data": {
            "text/plain": [
              "Date\n",
              "2021-04-12    701.979980\n",
              "2021-04-13    762.320007\n",
              "2021-04-14    732.229980\n",
              "2021-04-15    738.849976\n",
              "2021-04-16    739.780029\n",
              "Name: Adj Close, dtype: float64"
            ]
          },
          "execution_count": 14,
          "metadata": {},
          "output_type": "execute_result"
        }
      ],
      "source": [
        "data_TSLA[\"Adj Close\"].tail()"
      ]
    },
    {
      "cell_type": "code",
      "execution_count": null,
      "metadata": {
        "id": "RS8Gy0zF95I5",
        "outputId": "0f956b00-d244-4802-e97e-2a04beb11c4b"
      },
      "outputs": [
        {
          "data": {
            "image/png": "[encoded data removed]",
            "text/plain": [
              "<Figure size 432x288 with 1 Axes>"
            ]
          },
          "metadata": {
            "needs_background": "light"
          },
          "output_type": "display_data"
        }
      ],
      "source": [
        "daily_changes_TSLA = data_TSLA[\"Adj Close\"].pct_change(periods=1)\n",
        "daily_changes_TSLA.plot();"
      ]
    },
    {
      "cell_type": "markdown",
      "metadata": {
        "id": "bVfFePLL95I6"
      },
      "source": [
        "# Plotting Log Returns"
      ]
    },
    {
      "cell_type": "markdown",
      "metadata": {
        "id": "e545nBeS95I6"
      },
      "source": [
        "## < 1. Platinum Fixing (USD AM) >"
      ]
    },
    {
      "cell_type": "code",
      "execution_count": null,
      "metadata": {
        "id": "vus5qAxg95I6",
        "outputId": "ad74e2c5-ae68-4c32-f74e-39bad07b48c2"
      },
      "outputs": [
        {
          "data": {
            "image/png": "[encoded data removed]",
            "text/plain": [
              "<Figure size 432x288 with 1 Axes>"
            ]
          },
          "metadata": {
            "needs_background": "light"
          },
          "output_type": "display_data"
        }
      ],
      "source": [
        "df_plat_return_log = np.log(df_plat[\"USD AM\"]/df_plat[\"USD AM\"].shift(1))\n",
        "df_plat_return_log.plot();"
      ]
    },
    {
      "cell_type": "markdown",
      "metadata": {
        "id": "LzhX-l9N95I7"
      },
      "source": [
        "## < 2. Ethereum (ETH-USD) >"
      ]
    },
    {
      "cell_type": "code",
      "execution_count": null,
      "metadata": {
        "id": "GGA_Ghw695I7",
        "outputId": "0ca843ae-095f-4f42-9dbf-6ad6bc9f12c0"
      },
      "outputs": [
        {
          "data": {
            "image/png": "[encoded data removed]",
            "text/plain": [
              "<Figure size 432x288 with 1 Axes>"
            ]
          },
          "metadata": {
            "needs_background": "light"
          },
          "output_type": "display_data"
        }
      ],
      "source": [
        "data_ETH_return_log = np.log(data_ETH[\"Adj Close\"]/data_ETH[\"Adj Close\"].shift(1))\n",
        "data_ETH_return_log.plot();"
      ]
    },
    {
      "cell_type": "markdown",
      "metadata": {
        "id": "dtXVk5Wa95I7"
      },
      "source": [
        "## < 3. Alphabet Inc. (GOOG) (USD) >"
      ]
    },
    {
      "cell_type": "code",
      "execution_count": null,
      "metadata": {
        "id": "Sp8b-RTe95I8",
        "outputId": "ad962050-8465-44de-837f-e3383c6b524e"
      },
      "outputs": [
        {
          "data": {
            "image/png": "[encoded data removed]",
            "text/plain": [
              "<Figure size 432x288 with 1 Axes>"
            ]
          },
          "metadata": {
            "needs_background": "light"
          },
          "output_type": "display_data"
        }
      ],
      "source": [
        "data_GOOG_return_log = np.log(data_GOOG[\"Adj Close\"]/data_GOOG[\"Adj Close\"].shift(1))\n",
        "data_GOOG_return_log.plot();"
      ]
    },
    {
      "cell_type": "markdown",
      "metadata": {
        "id": "iA4nLd-995I8"
      },
      "source": [
        "## < 4. Tesla, Inc. (TSLA) (USD) >"
      ]
    },
    {
      "cell_type": "code",
      "execution_count": null,
      "metadata": {
        "id": "0Q459oBA95I8",
        "outputId": "d4f0da6e-9f43-4014-cda6-2e86ad173702"
      },
      "outputs": [
        {
          "data": {
            "image/png": "[encoded data removed]",
            "text/plain": [
              "<Figure size 432x288 with 1 Axes>"
            ]
          },
          "metadata": {
            "needs_background": "light"
          },
          "output_type": "display_data"
        }
      ],
      "source": [
        "data_TSLA_return_log = np.log(data_TSLA[\"Adj Close\"]/data_TSLA[\"Adj Close\"].shift(1))\n",
        "data_TSLA_return_log.plot();"
      ]
    },
    {
      "cell_type": "markdown",
      "metadata": {
        "id": "qMZWzr2e95I8"
      },
      "source": [
        "#  Plotting Cummulative Returns "
      ]
    },
    {
      "cell_type": "markdown",
      "metadata": {
        "id": "BK2-6iax95I8"
      },
      "source": [
        "## < 1. Platinum Fixing (USD AM) >"
      ]
    },
    {
      "cell_type": "code",
      "execution_count": null,
      "metadata": {
        "id": "YQEYKGdK95I8",
        "outputId": "2b82126a-239f-43de-8e11-7023a2b4f3fa"
      },
      "outputs": [
        {
          "data": {
            "image/png": "[encoded data removed]",
            "text/plain": [
              "<Figure size 432x288 with 1 Axes>"
            ]
          },
          "metadata": {
            "needs_background": "light"
          },
          "output_type": "display_data"
        }
      ],
      "source": [
        "df_plat_cumsum = daily_changes_plat.cumsum()\n",
        "df_plat_cumsum.plot();"
      ]
    },
    {
      "cell_type": "markdown",
      "metadata": {
        "id": "C-Uwg5qg95I8"
      },
      "source": [
        "## < 2. Ethereum (ETH-USD) >"
      ]
    },
    {
      "cell_type": "code",
      "execution_count": null,
      "metadata": {
        "id": "MZ3KkgtY95I9",
        "outputId": "e8ed83d4-3447-49b0-a0ea-55022ad4da49"
      },
      "outputs": [
        {
          "data": {
            "image/png": "[encoded data removed]",
            "text/plain": [
              "<Figure size 432x288 with 1 Axes>"
            ]
          },
          "metadata": {
            "needs_background": "light"
          },
          "output_type": "display_data"
        }
      ],
      "source": [
        "df_ETH_cumsum = daily_changes_ETH.cumsum()\n",
        "df_ETH_cumsum.plot();"
      ]
    },
    {
      "cell_type": "markdown",
      "metadata": {
        "id": "HPLwr8Sy95I-"
      },
      "source": [
        "## < 3. Alphabet Inc. (GOOG) (USD) >"
      ]
    },
    {
      "cell_type": "code",
      "execution_count": null,
      "metadata": {
        "id": "dtzM1Jhi95I-",
        "outputId": "c0115b9b-ab71-49ff-f69d-a8a836250c0c"
      },
      "outputs": [
        {
          "data": {
            "image/png": "[encoded data removed]",
            "text/plain": [
              "<Figure size 432x288 with 1 Axes>"
            ]
          },
          "metadata": {
            "needs_background": "light"
          },
          "output_type": "display_data"
        }
      ],
      "source": [
        "df_GOOG_cumsum = daily_changes_GOOG.cumsum()\n",
        "df_GOOG_cumsum.plot();"
      ]
    },
    {
      "cell_type": "markdown",
      "metadata": {
        "id": "q_ADC9tp95I-"
      },
      "source": [
        "## < 4. Tesla, Inc. (TSLA) (USD) >"
      ]
    },
    {
      "cell_type": "code",
      "execution_count": null,
      "metadata": {
        "id": "7DhQgHEm95I-",
        "outputId": "324ec64f-c1a8-430f-ea4a-c69691ddcec3"
      },
      "outputs": [
        {
          "data": {
            "image/png": "[encoded data removed]",
            "text/plain": [
              "<Figure size 432x288 with 1 Axes>"
            ]
          },
          "metadata": {
            "needs_background": "light"
          },
          "output_type": "display_data"
        }
      ],
      "source": [
        "df_TSLA_cumsum = daily_changes_TSLA.cumsum()\n",
        "df_TSLA_cumsum.plot();"
      ]
    },
    {
      "cell_type": "markdown",
      "metadata": {
        "id": "aWCokVj595I-"
      },
      "source": [
        "##  Plot Every Cummulative Returns In One Frame"
      ]
    },
    {
      "cell_type": "code",
      "execution_count": null,
      "metadata": {
        "id": "WYX1aDgJ95I_",
        "outputId": "839df76b-090a-4b1a-faec-6e7b81df0758"
      },
      "outputs": [
        {
          "data": {
            "text/html": [
              "<div>\n",
              "<style scoped>\n",
              "    .dataframe tbody tr th:only-of-type {\n",
              "        vertical-align: middle;\n",
              "    }\n",
              "\n",
              "    .dataframe tbody tr th {\n",
              "        vertical-align: top;\n",
              "    }\n",
              "\n",
              "    .dataframe thead th {\n",
              "        text-align: right;\n",
              "    }\n",
              "</style>\n",
              "<table border=\"1\" class=\"dataframe\">\n",
              "  <thead>\n",
              "    <tr style=\"text-align: right;\">\n",
              "      <th></th>\n",
              "      <th>PLAT</th>\n",
              "      <th>ETH</th>\n",
              "      <th>GOOG</th>\n",
              "      <th>TSLA</th>\n",
              "    </tr>\n",
              "    <tr>\n",
              "      <th>Date</th>\n",
              "      <th></th>\n",
              "      <th></th>\n",
              "      <th></th>\n",
              "      <th></th>\n",
              "    </tr>\n",
              "  </thead>\n",
              "  <tbody>\n",
              "    <tr>\n",
              "      <th>2021-04-09</th>\n",
              "      <td>1213.0</td>\n",
              "      <td>2072.108887</td>\n",
              "      <td>2285.879883</td>\n",
              "      <td>677.020020</td>\n",
              "    </tr>\n",
              "    <tr>\n",
              "      <th>2021-04-12</th>\n",
              "      <td>1186.0</td>\n",
              "      <td>2139.353271</td>\n",
              "      <td>2254.790039</td>\n",
              "      <td>701.979980</td>\n",
              "    </tr>\n",
              "    <tr>\n",
              "      <th>2021-04-13</th>\n",
              "      <td>1171.0</td>\n",
              "      <td>2299.187744</td>\n",
              "      <td>2267.270020</td>\n",
              "      <td>762.320007</td>\n",
              "    </tr>\n",
              "    <tr>\n",
              "      <th>2021-04-14</th>\n",
              "      <td>1180.0</td>\n",
              "      <td>2435.104980</td>\n",
              "      <td>2254.840088</td>\n",
              "      <td>732.229980</td>\n",
              "    </tr>\n",
              "    <tr>\n",
              "      <th>2021-04-15</th>\n",
              "      <td>1191.0</td>\n",
              "      <td>2519.116211</td>\n",
              "      <td>2296.659912</td>\n",
              "      <td>738.849976</td>\n",
              "    </tr>\n",
              "  </tbody>\n",
              "</table>\n",
              "</div>"
            ],
            "text/plain": [
              "              PLAT          ETH         GOOG        TSLA\n",
              "Date                                                    \n",
              "2021-04-09  1213.0  2072.108887  2285.879883  677.020020\n",
              "2021-04-12  1186.0  2139.353271  2254.790039  701.979980\n",
              "2021-04-13  1171.0  2299.187744  2267.270020  762.320007\n",
              "2021-04-14  1180.0  2435.104980  2254.840088  732.229980\n",
              "2021-04-15  1191.0  2519.116211  2296.659912  738.849976"
            ]
          },
          "execution_count": 24,
          "metadata": {},
          "output_type": "execute_result"
        }
      ],
      "source": [
        "### Plot everything together ###\n",
        "\n",
        "df1 = quandl.get('LPPM/PLAT.1')\n",
        "df1[\"ETH\"] = data_ETH[\"Adj Close\"]\n",
        "df1[\"GOOG\"] = data_GOOG[\"Adj Close\"]\n",
        "df1[\"TSLA\"] = data_TSLA[\"Adj Close\"]\n",
        "\n",
        "df1 = df1.rename(columns = {'USD AM': 'PLAT'}, inplace = False)\n",
        "df1.tail()\n",
        "\n",
        "# PLAT = Platinum Fixing (USD-AM), ETH = Ethereum (ETH-USD), GOOG = Alphabet Inc. (GOOG) (USD), TSLA = Tesla Inc. (TSLA) (USD)"
      ]
    },
    {
      "cell_type": "code",
      "execution_count": null,
      "metadata": {
        "id": "7v83osDt95I_",
        "outputId": "956e71d6-d362-4b95-b188-79fb085fba78"
      },
      "outputs": [
        {
          "data": {
            "text/html": [
              "<div>\n",
              "<style scoped>\n",
              "    .dataframe tbody tr th:only-of-type {\n",
              "        vertical-align: middle;\n",
              "    }\n",
              "\n",
              "    .dataframe tbody tr th {\n",
              "        vertical-align: top;\n",
              "    }\n",
              "\n",
              "    .dataframe thead th {\n",
              "        text-align: right;\n",
              "    }\n",
              "</style>\n",
              "<table border=\"1\" class=\"dataframe\">\n",
              "  <thead>\n",
              "    <tr style=\"text-align: right;\">\n",
              "      <th></th>\n",
              "      <th>PLAT</th>\n",
              "      <th>ETH</th>\n",
              "      <th>GOOG</th>\n",
              "      <th>TSLA</th>\n",
              "    </tr>\n",
              "    <tr>\n",
              "      <th>Date</th>\n",
              "      <th></th>\n",
              "      <th></th>\n",
              "      <th></th>\n",
              "      <th></th>\n",
              "    </tr>\n",
              "  </thead>\n",
              "  <tbody>\n",
              "    <tr>\n",
              "      <th>2021-04-09</th>\n",
              "      <td>-0.013019</td>\n",
              "      <td>-0.007883</td>\n",
              "      <td>0.009023</td>\n",
              "      <td>-0.009915</td>\n",
              "    </tr>\n",
              "    <tr>\n",
              "      <th>2021-04-12</th>\n",
              "      <td>-0.022259</td>\n",
              "      <td>0.032452</td>\n",
              "      <td>-0.013601</td>\n",
              "      <td>0.036867</td>\n",
              "    </tr>\n",
              "    <tr>\n",
              "      <th>2021-04-13</th>\n",
              "      <td>-0.012648</td>\n",
              "      <td>0.074712</td>\n",
              "      <td>0.005535</td>\n",
              "      <td>0.085957</td>\n",
              "    </tr>\n",
              "    <tr>\n",
              "      <th>2021-04-14</th>\n",
              "      <td>0.007686</td>\n",
              "      <td>0.059115</td>\n",
              "      <td>-0.005482</td>\n",
              "      <td>-0.039472</td>\n",
              "    </tr>\n",
              "    <tr>\n",
              "      <th>2021-04-15</th>\n",
              "      <td>0.009322</td>\n",
              "      <td>0.034500</td>\n",
              "      <td>0.018547</td>\n",
              "      <td>0.009041</td>\n",
              "    </tr>\n",
              "  </tbody>\n",
              "</table>\n",
              "</div>"
            ],
            "text/plain": [
              "                PLAT       ETH      GOOG      TSLA\n",
              "Date                                              \n",
              "2021-04-09 -0.013019 -0.007883  0.009023 -0.009915\n",
              "2021-04-12 -0.022259  0.032452 -0.013601  0.036867\n",
              "2021-04-13 -0.012648  0.074712  0.005535  0.085957\n",
              "2021-04-14  0.007686  0.059115 -0.005482 -0.039472\n",
              "2021-04-15  0.009322  0.034500  0.018547  0.009041"
            ]
          },
          "execution_count": 25,
          "metadata": {},
          "output_type": "execute_result"
        }
      ],
      "source": [
        "df1_pct = df1.pct_change(periods=1)\n",
        "df1_pct.tail()"
      ]
    },
    {
      "cell_type": "code",
      "execution_count": null,
      "metadata": {
        "id": "nTSWSqj695JA",
        "outputId": "824131bf-133a-4382-f2c1-5bee7777732d"
      },
      "outputs": [
        {
          "data": {
            "image/png": "[encoded data removed]",
            "text/plain": [
              "<Figure size 432x288 with 1 Axes>"
            ]
          },
          "metadata": {
            "needs_background": "light"
          },
          "output_type": "display_data"
        }
      ],
      "source": [
        "dfcum_cumsum = df1_pct.cumsum()\n",
        "dfcum_cumsum.plot();\n",
        "#ETH is the best in Cummulative Returns, PLAT is the worst, and TSLA have beaten GOOG in the year: 2021"
      ]
    },
    {
      "cell_type": "markdown",
      "metadata": {
        "id": "cYswlqg695JA"
      },
      "source": [
        "# Plotting Histograms "
      ]
    },
    {
      "cell_type": "markdown",
      "metadata": {
        "id": "4k3r5Ly695JA"
      },
      "source": [
        "## < 1. Platinum Fixing (USD AM) >"
      ]
    },
    {
      "cell_type": "code",
      "execution_count": null,
      "metadata": {
        "id": "IjeApA7m95JA",
        "outputId": "76726c86-a0e6-4371-862d-306f0312668f"
      },
      "outputs": [
        {
          "data": {
            "image/png": "[encoded data removed]",
            "text/plain": [
              "<Figure size 576x288 with 1 Axes>"
            ]
          },
          "metadata": {
            "needs_background": "light"
          },
          "output_type": "display_data"
        }
      ],
      "source": [
        "daily_changes_plat.hist(bins=50, figsize=(8, 4));"
      ]
    },
    {
      "cell_type": "code",
      "execution_count": null,
      "metadata": {
        "id": "JIIq9LVv95JB",
        "outputId": "ca6555ba-ca05-434b-a6da-d238c2ab138b"
      },
      "outputs": [
        {
          "data": {
            "text/html": [
              "<div>\n",
              "<style scoped>\n",
              "    .dataframe tbody tr th:only-of-type {\n",
              "        vertical-align: middle;\n",
              "    }\n",
              "\n",
              "    .dataframe tbody tr th {\n",
              "        vertical-align: top;\n",
              "    }\n",
              "\n",
              "    .dataframe thead th {\n",
              "        text-align: right;\n",
              "    }\n",
              "</style>\n",
              "<table border=\"1\" class=\"dataframe\">\n",
              "  <thead>\n",
              "    <tr style=\"text-align: right;\">\n",
              "      <th></th>\n",
              "      <th>USD AM</th>\n",
              "    </tr>\n",
              "  </thead>\n",
              "  <tbody>\n",
              "    <tr>\n",
              "      <th>count</th>\n",
              "      <td>7837.000000</td>\n",
              "    </tr>\n",
              "    <tr>\n",
              "      <th>mean</th>\n",
              "      <td>0.000215</td>\n",
              "    </tr>\n",
              "    <tr>\n",
              "      <th>std</th>\n",
              "      <td>0.013913</td>\n",
              "    </tr>\n",
              "    <tr>\n",
              "      <th>min</th>\n",
              "      <td>-0.165468</td>\n",
              "    </tr>\n",
              "    <tr>\n",
              "      <th>25%</th>\n",
              "      <td>-0.006873</td>\n",
              "    </tr>\n",
              "    <tr>\n",
              "      <th>50%</th>\n",
              "      <td>0.000000</td>\n",
              "    </tr>\n",
              "    <tr>\n",
              "      <th>75%</th>\n",
              "      <td>0.007143</td>\n",
              "    </tr>\n",
              "    <tr>\n",
              "      <th>max</th>\n",
              "      <td>0.125000</td>\n",
              "    </tr>\n",
              "  </tbody>\n",
              "</table>\n",
              "</div>"
            ],
            "text/plain": [
              "            USD AM\n",
              "count  7837.000000\n",
              "mean      0.000215\n",
              "std       0.013913\n",
              "min      -0.165468\n",
              "25%      -0.006873\n",
              "50%       0.000000\n",
              "75%       0.007143\n",
              "max       0.125000"
            ]
          },
          "execution_count": 28,
          "metadata": {},
          "output_type": "execute_result"
        }
      ],
      "source": [
        "daily_changes_plat.describe()"
      ]
    },
    {
      "cell_type": "markdown",
      "metadata": {
        "id": "g1hkR0hP95JB"
      },
      "source": [
        "## < 2. Ethereum (ETH-USD) >"
      ]
    },
    {
      "cell_type": "code",
      "execution_count": null,
      "metadata": {
        "id": "0pYdqgW495JB",
        "outputId": "0d27a072-a070-486f-9c2e-e95ffaa2a2f7"
      },
      "outputs": [
        {
          "data": {
            "image/png": "[encoded data removed]",
            "text/plain": [
              "<Figure size 576x288 with 1 Axes>"
            ]
          },
          "metadata": {
            "needs_background": "light"
          },
          "output_type": "display_data"
        }
      ],
      "source": [
        "daily_changes_ETH.hist(bins=50, figsize=(8, 4));"
      ]
    },
    {
      "cell_type": "code",
      "execution_count": null,
      "metadata": {
        "id": "HM0r2yVd95JB",
        "outputId": "5965bff5-db3e-4ba6-e63a-f5101e13168d"
      },
      "outputs": [
        {
          "data": {
            "text/plain": [
              "count    2076.000000\n",
              "mean        0.005466\n",
              "std         0.064599\n",
              "min        -0.728250\n",
              "25%        -0.022361\n",
              "50%         0.000566\n",
              "75%         0.029535\n",
              "max         0.507323\n",
              "Name: Adj Close, dtype: float64"
            ]
          },
          "execution_count": 30,
          "metadata": {},
          "output_type": "execute_result"
        }
      ],
      "source": [
        "daily_changes_ETH.describe()"
      ]
    },
    {
      "cell_type": "markdown",
      "metadata": {
        "id": "YjxQIrdf95JB"
      },
      "source": [
        "## < 3. Alphabet Inc. (GOOG) (USD) >"
      ]
    },
    {
      "cell_type": "code",
      "execution_count": null,
      "metadata": {
        "id": "ngCip1IE95JC",
        "outputId": "6f91c731-9567-4012-f329-ef4b5294ac64"
      },
      "outputs": [
        {
          "data": {
            "image/png": "[encoded data removed]",
            "text/plain": [
              "<Figure size 576x288 with 1 Axes>"
            ]
          },
          "metadata": {
            "needs_background": "light"
          },
          "output_type": "display_data"
        }
      ],
      "source": [
        "daily_changes_GOOG.hist(bins=50, figsize=(8, 4));"
      ]
    },
    {
      "cell_type": "code",
      "execution_count": null,
      "metadata": {
        "id": "pG6MC_we95JC",
        "outputId": "1269c4f1-35e5-4248-939a-31c18e6bf0dc"
      },
      "outputs": [
        {
          "data": {
            "text/plain": [
              "count    4193.000000\n",
              "mean        0.001097\n",
              "std         0.019259\n",
              "min        -0.116091\n",
              "25%        -0.007320\n",
              "50%         0.000698\n",
              "75%         0.010026\n",
              "max         0.199915\n",
              "Name: Adj Close, dtype: float64"
            ]
          },
          "execution_count": 32,
          "metadata": {},
          "output_type": "execute_result"
        }
      ],
      "source": [
        "daily_changes_GOOG.describe()"
      ]
    },
    {
      "cell_type": "markdown",
      "metadata": {
        "id": "bv_AwHre95JC"
      },
      "source": [
        "## < 4. Tesla, Inc. (TSLA) (USD) >"
      ]
    },
    {
      "cell_type": "code",
      "execution_count": null,
      "metadata": {
        "id": "8pUaS2OU95JC",
        "outputId": "07b880f2-a38f-4bed-d44c-8c7a91435cfb"
      },
      "outputs": [
        {
          "data": {
            "image/png": "[encoded data removed]",
            "text/plain": [
              "<Figure size 576x288 with 1 Axes>"
            ]
          },
          "metadata": {
            "needs_background": "light"
          },
          "output_type": "display_data"
        }
      ],
      "source": [
        "daily_changes_TSLA.hist(bins=50, figsize=(8, 4));"
      ]
    },
    {
      "cell_type": "code",
      "execution_count": null,
      "metadata": {
        "id": "FscvCDJk95JD",
        "outputId": "8bccf0a2-f2de-4f85-fb19-ec93155aa918"
      },
      "outputs": [
        {
          "data": {
            "text/plain": [
              "count    2718.000000\n",
              "mean        0.002492\n",
              "std         0.035764\n",
              "min        -0.210628\n",
              "25%        -0.014920\n",
              "50%         0.001179\n",
              "75%         0.019252\n",
              "max         0.243951\n",
              "Name: Adj Close, dtype: float64"
            ]
          },
          "execution_count": 163,
          "metadata": {},
          "output_type": "execute_result"
        }
      ],
      "source": [
        "daily_changes_TSLA.describe()"
      ]
    },
    {
      "cell_type": "markdown",
      "metadata": {
        "id": "z6SU3ul195JD"
      },
      "source": [
        "## All Histograms In One Frame"
      ]
    },
    {
      "cell_type": "code",
      "execution_count": null,
      "metadata": {
        "id": "7iDykhcq95JD",
        "outputId": "e933e633-e8ab-46cf-f491-d5bf9d083c14"
      },
      "outputs": [
        {
          "data": {
            "image/png": "[encoded data removed]",
            "text/plain": [
              "<Figure size 864x576 with 4 Axes>"
            ]
          },
          "metadata": {
            "needs_background": "light"
          },
          "output_type": "display_data"
        }
      ],
      "source": [
        "#All in the same frame\n",
        "df1_pct.hist(bins=50, sharex=True, figsize=(12, 8));\n",
        "\n",
        "# ETH has the widest interval = the most fluctuations in returns and the most volatile.\n",
        "# All assets are almost in the middle(not skew left or right) and have lower kurtosis when being compared to ETH."
      ]
    },
    {
      "cell_type": "markdown",
      "metadata": {
        "id": "BWrxjywk95JD"
      },
      "source": [
        "# Plotting volatility "
      ]
    },
    {
      "cell_type": "markdown",
      "metadata": {
        "id": "qSPv0sqw95JE"
      },
      "source": [
        "## < 1. Platinum Fixing (USD AM) >"
      ]
    },
    {
      "cell_type": "code",
      "execution_count": null,
      "metadata": {
        "id": "JY3yfAuT95JE",
        "outputId": "c58712b9-a720-41ab-e7cb-dc3deb534540"
      },
      "outputs": [
        {
          "data": {
            "image/png": "[encoded data removed]",
            "text/plain": [
              "<Figure size 432x288 with 1 Axes>"
            ]
          },
          "metadata": {
            "needs_background": "light"
          },
          "output_type": "display_data"
        }
      ],
      "source": [
        "df_plat_filled = df_plat.asfreq('D', method='ffill')\n",
        "df_plat_returns = df_plat_filled.pct_change()\n",
        "df_plat_std = df_plat_returns.rolling(window=30, min_periods=30).std()\n",
        "df_plat_std.plot();"
      ]
    },
    {
      "cell_type": "markdown",
      "metadata": {
        "id": "zlBzc-q095JE"
      },
      "source": [
        "## < 2. Ethereum (ETH-USD) >"
      ]
    },
    {
      "cell_type": "code",
      "execution_count": null,
      "metadata": {
        "id": "bIvaCnd795JF",
        "outputId": "f05f2bca-04df-449e-abe9-94391348247c"
      },
      "outputs": [
        {
          "data": {
            "image/png": "[encoded data removed]",
            "text/plain": [
              "<Figure size 432x288 with 1 Axes>"
            ]
          },
          "metadata": {
            "needs_background": "light"
          },
          "output_type": "display_data"
        }
      ],
      "source": [
        "data_ETH_filled = data_ETH[\"Adj Close\"].asfreq('D', method='ffill')\n",
        "data_ETH_returns = data_ETH_filled.pct_change()\n",
        "data_ETH_std = data_ETH_returns.rolling(window=30, min_periods=30).std()\n",
        "data_ETH_std.plot();"
      ]
    },
    {
      "cell_type": "markdown",
      "metadata": {
        "id": "lhtzHkb_95JF"
      },
      "source": [
        "## < 3. Alphabet Inc. (GOOG) (USD) >"
      ]
    },
    {
      "cell_type": "code",
      "execution_count": null,
      "metadata": {
        "id": "duOe4NgS95JF",
        "outputId": "98ab0fa3-9801-4325-91dc-743e381c33f1"
      },
      "outputs": [
        {
          "data": {
            "image/png": "[encoded data removed]",
            "text/plain": [
              "<Figure size 432x288 with 1 Axes>"
            ]
          },
          "metadata": {
            "needs_background": "light"
          },
          "output_type": "display_data"
        }
      ],
      "source": [
        "data_GOOG_filled = data_GOOG[\"Adj Close\"].asfreq('D', method='ffill')\n",
        "data_GOOG_returns = data_GOOG_filled.pct_change()\n",
        "data_GOOG_std = data_GOOG_returns.rolling(window=30, min_periods=30).std()\n",
        "data_GOOG_std.plot();"
      ]
    },
    {
      "cell_type": "markdown",
      "metadata": {
        "id": "it4w64ZT95JF"
      },
      "source": [
        "## < 4. Tesla, Inc. (TSLA) (USD) >"
      ]
    },
    {
      "cell_type": "code",
      "execution_count": null,
      "metadata": {
        "id": "fKZVOW-P95JF",
        "outputId": "29048684-19d0-47c7-e3f4-fd7c7851c01f"
      },
      "outputs": [
        {
          "data": {
            "image/png": "[encoded data removed]",
            "text/plain": [
              "<Figure size 432x288 with 1 Axes>"
            ]
          },
          "metadata": {
            "needs_background": "light"
          },
          "output_type": "display_data"
        }
      ],
      "source": [
        "data_TSLA_filled = data_TSLA[\"Adj Close\"].asfreq('D', method='ffill')\n",
        "data_TSLA_returns = data_TSLA_filled.pct_change()\n",
        "data_TSLA_std = data_TSLA_returns.rolling(window=30, min_periods=30).std()\n",
        "data_TSLA_std.plot();"
      ]
    },
    {
      "cell_type": "code",
      "execution_count": null,
      "metadata": {
        "id": "dZ_8MblZ95JG",
        "outputId": "843fd8da-769f-4a7d-f487-8cb02f506d53"
      },
      "outputs": [
        {
          "data": {
            "image/png": "[encoded data removed]",
            "text/plain": [
              "<Figure size 720x576 with 1 Axes>"
            ]
          },
          "metadata": {
            "needs_background": "light"
          },
          "output_type": "display_data"
        }
      ],
      "source": [
        "#Plot together\n",
        "df1_filled = df1.asfreq('D', method='ffill')\n",
        "df1_pct_returns = df1_filled.pct_change()\n",
        "df1_pct_std = df1_pct_returns.rolling(window=30, min_periods=30).std()\n",
        "df1_pct_std.plot(figsize=(10,8));\n",
        "\n",
        "#ETH is the most volatile one\n",
        "#PLAT is the least volatile one"
      ]
    },
    {
      "cell_type": "markdown",
      "metadata": {
        "id": "ZDhYTG6n95JG"
      },
      "source": [
        "# Quantile-Quantile Plot"
      ]
    },
    {
      "cell_type": "markdown",
      "metadata": {
        "id": "NfjXVqQ095JG"
      },
      "source": [
        "## < 1. Platinum Fixing (USD AM) >"
      ]
    },
    {
      "cell_type": "code",
      "execution_count": null,
      "metadata": {
        "id": "GFY4tGDc95JH",
        "outputId": "f4ea9d64-e5e0-40fd-b5d7-d95219925f00"
      },
      "outputs": [
        {
          "data": {
            "image/png": "[encoded data removed]",
            "text/plain": [
              "<Figure size 576x288 with 1 Axes>"
            ]
          },
          "metadata": {
            "needs_background": "light"
          },
          "output_type": "display_data"
        }
      ],
      "source": [
        "from scipy import stats\n",
        "from scipy.stats import probplot\n",
        "\n",
        "daily_changes_plat = df_plat.pct_change(periods=1).dropna()\n",
        "\n",
        "figure = plt.figure(figsize=(8,4))\n",
        "ax = figure.add_subplot(111)\n",
        "stats.probplot(daily_changes_plat['USD AM'], dist='norm', plot=ax)\n",
        "plt.show();"
      ]
    },
    {
      "cell_type": "markdown",
      "metadata": {
        "id": "WNO2Eep495JH"
      },
      "source": [
        "## < 2. Ethereum (ETH-USD) >"
      ]
    },
    {
      "cell_type": "code",
      "execution_count": null,
      "metadata": {
        "id": "AwDQbzj795JH",
        "outputId": "b4f6d772-c3e0-4a1e-8805-a1af65e4179c"
      },
      "outputs": [
        {
          "data": {
            "image/png": "[encoded data removed]",
            "text/plain": [
              "<Figure size 576x288 with 1 Axes>"
            ]
          },
          "metadata": {
            "needs_background": "light"
          },
          "output_type": "display_data"
        }
      ],
      "source": [
        "daily_changes_ETH = data_ETH[\"Adj Close\"].pct_change(periods=1).dropna()\n",
        "\n",
        "figure = plt.figure(figsize=(8,4))\n",
        "ax = figure.add_subplot(111)\n",
        "stats.probplot(daily_changes_ETH, dist='norm', plot=ax)\n",
        "plt.show();"
      ]
    },
    {
      "cell_type": "markdown",
      "metadata": {
        "id": "p0khCXp395JH"
      },
      "source": [
        "## < 3. Alphabet Inc. (GOOG) (USD) >"
      ]
    },
    {
      "cell_type": "code",
      "execution_count": null,
      "metadata": {
        "id": "NeyA-lPJ95JI",
        "outputId": "c50210a6-cc91-455d-d25e-7090cbf8483f"
      },
      "outputs": [
        {
          "data": {
            "image/png": "[encoded data removed]",
            "text/plain": [
              "<Figure size 576x288 with 1 Axes>"
            ]
          },
          "metadata": {
            "needs_background": "light"
          },
          "output_type": "display_data"
        }
      ],
      "source": [
        "daily_changes_GOOG = data_GOOG[\"Adj Close\"].pct_change(periods=1).dropna()\n",
        "\n",
        "figure = plt.figure(figsize=(8,4))\n",
        "ax = figure.add_subplot(111)\n",
        "stats.probplot(daily_changes_GOOG, dist='norm', plot=ax)\n",
        "plt.show();"
      ]
    },
    {
      "cell_type": "markdown",
      "metadata": {
        "id": "EFXhxv7Y95JI"
      },
      "source": [
        "## < 4. Tesla, Inc. (TSLA) (USD) >"
      ]
    },
    {
      "cell_type": "code",
      "execution_count": null,
      "metadata": {
        "id": "le1pv19k95JI",
        "outputId": "5deeddf7-8d3c-4540-c87e-2704946810f5"
      },
      "outputs": [
        {
          "data": {
            "image/png": "[encoded data removed]",
            "text/plain": [
              "<Figure size 576x288 with 1 Axes>"
            ]
          },
          "metadata": {
            "needs_background": "light"
          },
          "output_type": "display_data"
        }
      ],
      "source": [
        "daily_changes_TSLA = data_TSLA[\"Adj Close\"].pct_change(periods=1).dropna()\n",
        "\n",
        "figure = plt.figure(figsize=(8,4))\n",
        "ax = figure.add_subplot(111)\n",
        "stats.probplot(daily_changes_TSLA, dist='norm', plot=ax)\n",
        "plt.show();"
      ]
    },
    {
      "cell_type": "markdown",
      "metadata": {
        "id": "De7GY9hG95JJ"
      },
      "source": [
        "# Skewness and Kurtosis "
      ]
    },
    {
      "cell_type": "markdown",
      "metadata": {
        "id": "JmuoSG6Q95JJ"
      },
      "source": [
        "## < 1. Platinum Fixing (USD AM) >"
      ]
    },
    {
      "cell_type": "code",
      "execution_count": null,
      "metadata": {
        "id": "rBWHC4Sm95JJ",
        "outputId": "391ba54d-2ce8-4d94-ba83-c98fc4ef0dfa"
      },
      "outputs": [
        {
          "data": {
            "text/plain": [
              "USD AM    9.245393\n",
              "dtype: float64"
            ]
          },
          "execution_count": 45,
          "metadata": {},
          "output_type": "execute_result"
        }
      ],
      "source": [
        "daily_changes_plat.kurt()"
      ]
    },
    {
      "cell_type": "code",
      "execution_count": null,
      "metadata": {
        "id": "sEvMpM9d95JK",
        "outputId": "9ae737fb-f045-4904-8b4e-523a15ade6ab"
      },
      "outputs": [
        {
          "data": {
            "text/plain": [
              "USD AM   -0.061157\n",
              "dtype: float64"
            ]
          },
          "execution_count": 46,
          "metadata": {},
          "output_type": "execute_result"
        }
      ],
      "source": [
        "daily_changes_plat.skew()"
      ]
    },
    {
      "cell_type": "markdown",
      "metadata": {
        "id": "uKewx9W095JK"
      },
      "source": [
        "## < 2. Ethereum (ETH-USD) >"
      ]
    },
    {
      "cell_type": "code",
      "execution_count": null,
      "metadata": {
        "id": "SpyQU_OY95JL",
        "outputId": "532f7331-c4a4-4e98-cf14-ef2dbfb89e4a"
      },
      "outputs": [
        {
          "data": {
            "text/plain": [
              "14.920102059770928"
            ]
          },
          "execution_count": 47,
          "metadata": {},
          "output_type": "execute_result"
        }
      ],
      "source": [
        "daily_changes_ETH.kurt()"
      ]
    },
    {
      "cell_type": "code",
      "execution_count": null,
      "metadata": {
        "id": "ukrC7khW95JL",
        "outputId": "e873232e-9042-486e-bd12-9618316ac957"
      },
      "outputs": [
        {
          "data": {
            "text/plain": [
              "0.14649098826887494"
            ]
          },
          "execution_count": 48,
          "metadata": {},
          "output_type": "execute_result"
        }
      ],
      "source": [
        "daily_changes_ETH.skew()"
      ]
    },
    {
      "cell_type": "markdown",
      "metadata": {
        "id": "WkVmuG2695JL"
      },
      "source": [
        "## < 3. Alphabet Inc. (GOOG) (USD) >"
      ]
    },
    {
      "cell_type": "code",
      "execution_count": null,
      "metadata": {
        "id": "AZ6yQ9F_95JL",
        "outputId": "f844f762-9954-4684-fda2-d0a1566eb99a"
      },
      "outputs": [
        {
          "data": {
            "text/plain": [
              "10.512337842187547"
            ]
          },
          "execution_count": 49,
          "metadata": {},
          "output_type": "execute_result"
        }
      ],
      "source": [
        "daily_changes_GOOG.kurt()"
      ]
    },
    {
      "cell_type": "code",
      "execution_count": null,
      "metadata": {
        "id": "VgDfjRMv95JM",
        "outputId": "fabb3b6b-e4e7-4a42-cb49-2d4cfb59871f"
      },
      "outputs": [
        {
          "data": {
            "text/plain": [
              "0.7750493002182045"
            ]
          },
          "execution_count": 50,
          "metadata": {},
          "output_type": "execute_result"
        }
      ],
      "source": [
        "daily_changes_GOOG.skew()"
      ]
    },
    {
      "cell_type": "markdown",
      "metadata": {
        "id": "iTi1t6zx95JM"
      },
      "source": [
        "## < 4. Tesla, Inc. (TSLA) (USD) >"
      ]
    },
    {
      "cell_type": "code",
      "execution_count": null,
      "metadata": {
        "id": "FcteD4vR95JM",
        "outputId": "262895bc-7750-42d7-e398-1fff010c747f"
      },
      "outputs": [
        {
          "data": {
            "text/plain": [
              "5.899805102869735"
            ]
          },
          "execution_count": 51,
          "metadata": {},
          "output_type": "execute_result"
        }
      ],
      "source": [
        "daily_changes_TSLA.kurt()"
      ]
    },
    {
      "cell_type": "code",
      "execution_count": null,
      "metadata": {
        "id": "vTndmq4F95JN",
        "outputId": "603ef6af-7b4b-4e9e-ba56-97b82c7dbeab"
      },
      "outputs": [
        {
          "data": {
            "text/plain": [
              "0.4190360078611908"
            ]
          },
          "execution_count": 52,
          "metadata": {},
          "output_type": "execute_result"
        }
      ],
      "source": [
        "daily_changes_TSLA.skew()"
      ]
    },
    {
      "cell_type": "markdown",
      "metadata": {
        "id": "ASyJgB0g95JO"
      },
      "source": [
        "# Best Fit Normal Distributions"
      ]
    },
    {
      "cell_type": "code",
      "execution_count": null,
      "metadata": {
        "id": "VJCFWGct95JO"
      },
      "outputs": [],
      "source": [
        "import re\n",
        "import pandas as pd\n",
        "import numpy as np\n",
        "# from mlutils import dataset, connector\n",
        "import scipy.stats\n",
        "from scipy.stats import *\n",
        "from sklearn.preprocessing import StandardScaler\n",
        "import math\n",
        "import matplotlib.pyplot as plt\n",
        "import warnings\n",
        "import statsmodels.api as sm \n",
        "import seaborn as sns\n",
        "import pylab as py \n",
        "warnings.filterwarnings('ignore')\n",
        "%matplotlib inline"
      ]
    },
    {
      "cell_type": "code",
      "execution_count": null,
      "metadata": {
        "id": "95x0G9sG95JP"
      },
      "outputs": [],
      "source": [
        "def standarise(column,pct,pct_lower):\n",
        "    sc = StandardScaler() \n",
        "    y = df[column][df[column].notnull()].to_list()\n",
        "    y.sort()\n",
        "    len_y = len(y)\n",
        "    y = y[int(pct_lower * len_y):int(len_y * pct)]\n",
        "    len_y = len(y)\n",
        "    yy=([[x] for x in y])\n",
        "    sc.fit(yy)\n",
        "    y_std =sc.transform(yy)\n",
        "    y_std = y_std.flatten()\n",
        "    return y_std,len_y,y"
      ]
    },
    {
      "cell_type": "code",
      "execution_count": null,
      "metadata": {
        "id": "n1Y4l0iw95JP"
      },
      "outputs": [],
      "source": [
        "def fit_distribution(column,pct,pct_lower):\n",
        "    # Set up list of candidate distributions to use\n",
        "    # See https://docs.scipy.org/doc/scipy/reference/stats.html for more\n",
        "    y_std,size,y_org = standarise(column,pct,pct_lower)\n",
        "    dist_names = ['weibull_min','norm','weibull_max','beta',\n",
        "                 'invgauss','uniform','gamma','expon', 'lognorm','pearson3','triang']\n",
        "\n",
        "    chi_square_statistics = []\n",
        "    # 11 bins\n",
        "    percentile_bins = np.linspace(0,100,11)\n",
        "    percentile_cutoffs = np.percentile(y_std, percentile_bins)\n",
        "    observed_frequency, bins = (np.histogram(y_std, bins=percentile_cutoffs))\n",
        "    cum_observed_frequency = np.cumsum(observed_frequency)\n",
        "\n",
        "    # Loop through candidate distributions\n",
        "\n",
        "    for distribution in dist_names:\n",
        "        # Set up distribution and get fitted distribution parameters\n",
        "        dist = getattr(scipy.stats, distribution)\n",
        "        param = dist.fit(y_std)\n",
        "        print(\"{}\\n{}\\n\".format(dist, param))\n",
        "      \n",
        "\n",
        "        # Get expected counts in percentile bins\n",
        "        # cdf of fitted sistrinution across bins\n",
        "        cdf_fitted = dist.cdf(percentile_cutoffs, *param)\n",
        "        expected_frequency = []\n",
        "        for bin in range(len(percentile_bins)-1):\n",
        "            expected_cdf_area = cdf_fitted[bin+1] - cdf_fitted[bin]\n",
        "            expected_frequency.append(expected_cdf_area)\n",
        "\n",
        "        # Chi-square Statistics\n",
        "        expected_frequency = np.array(expected_frequency) * size\n",
        "        cum_expected_frequency = np.cumsum(expected_frequency)\n",
        "        ss = round(sum (((cum_expected_frequency - cum_observed_frequency) ** 2) / cum_observed_frequency),0)\n",
        "        chi_square_statistics.append(ss)\n",
        "\n",
        "\n",
        "    #Sort by minimum ch-square statistics\n",
        "    results = pd.DataFrame()\n",
        "    results['Distribution'] = dist_names\n",
        "    results['chi_square'] = chi_square_statistics\n",
        "    results.sort_values(['chi_square'], inplace=True)\n",
        "\n",
        "\n",
        "    print ('\\nDistributions listed by Betterment of fit:')\n",
        "    print ('............................................')\n",
        "    print (results)"
      ]
    },
    {
      "cell_type": "markdown",
      "metadata": {
        "id": "_wRrIO5V95JQ"
      },
      "source": [
        "## < 1. Platinum Fixing (USD AM) >"
      ]
    },
    {
      "cell_type": "code",
      "execution_count": null,
      "metadata": {
        "id": "Adbt4mFp95JQ",
        "outputId": "2af4a3a0-1ece-4067-d787-2df27afd4d60"
      },
      "outputs": [
        {
          "name": "stdout",
          "output_type": "stream",
          "text": [
            "<scipy.stats._continuous_distns.weibull_min_gen object at 0x000000000A080700>\n",
            "(0.9533286324610326, -1.1746776514098127, 1.113318922939568)\n",
            "\n",
            "<scipy.stats._continuous_distns.norm_gen object at 0x00000000095FF910>\n",
            "(5.920418576831976e-17, 1.0)\n",
            "\n",
            "<scipy.stats._continuous_distns.weibull_max_gen object at 0x000000000B35FB50>\n",
            "(126687.45275492631, 99083.52311111664, 99083.99158375544)\n",
            "\n",
            "<scipy.stats._continuous_distns.beta_gen object at 0x00000000095FF220>\n",
            "(0.7099257226213608, 1.7358822136896028, -1.1746776514098127, 3.864656349443015)\n",
            "\n",
            "<scipy.stats._continuous_distns.invgauss_gen object at 0x000000000B3DD8B0>\n",
            "(1.24513621130781, -1.3472309991062517, 1.082010754816452)\n",
            "\n",
            "<scipy.stats._continuous_distns.uniform_gen object at 0x000000000A054EB0>\n",
            "(-1.1746776514098125, 3.7829057899662892)\n",
            "\n",
            "<scipy.stats._continuous_distns.gamma_gen object at 0x00000000096DD4C0>\n",
            "(0.8372723113828108, -1.1746776514098127, 1.3927506623260064)\n",
            "\n",
            "<scipy.stats._continuous_distns.expon_gen object at 0x000000000A0808B0>\n",
            "(-1.1746776514098125, 1.1746776514098125)\n",
            "\n",
            "<scipy.stats._continuous_distns.lognorm_gen object at 0x0000000009961130>\n",
            "(1.2817261345898627, -1.2066680308373414, 0.6732599629360106)\n",
            "\n",
            "<scipy.stats._continuous_distns.pearson3_gen object at 0x00000000096F88B0>\n",
            "(2.1976290583660685, -5.868157922981844e-17, 1.2907528704757056)\n",
            "\n",
            "<scipy.stats._continuous_distns.triang_gen object at 0x000000000A054CA0>\n",
            "(0.0003625724949727052, -1.175260777131407, 3.8247945953719853)\n",
            "\n",
            "\n",
            "Distributions listed by Betterment of fit:\n",
            "............................................\n",
            "   Distribution  chi_square\n",
            "3          beta       539.0\n",
            "9      pearson3       754.0\n",
            "6         gamma       783.0\n",
            "0   weibull_min      1065.0\n",
            "8       lognorm      1207.0\n",
            "7         expon      1209.0\n",
            "4      invgauss      1529.0\n",
            "10       triang      2090.0\n",
            "2   weibull_max      3491.0\n",
            "1          norm      5393.0\n",
            "5       uniform      7117.0\n"
          ]
        }
      ],
      "source": [
        "df = quandl.get('LPPM/PLAT.1')\n",
        "fit_distribution('USD AM',0.99,0.01)"
      ]
    },
    {
      "cell_type": "code",
      "execution_count": null,
      "metadata": {
        "id": "IbckUzNW95JQ"
      },
      "outputs": [],
      "source": [
        "y_std,len_y,y = standarise('USD AM',0.99,0.01)"
      ]
    },
    {
      "cell_type": "code",
      "execution_count": null,
      "metadata": {
        "id": "hex-Hdmf95JQ",
        "outputId": "24b99cd5-6e15-41d2-b94a-ada948696e4c"
      },
      "outputs": [
        {
          "data": {
            "text/plain": [
              "Text(0, 0.5, 'Frequency')"
            ]
          },
          "execution_count": 116,
          "metadata": {},
          "output_type": "execute_result"
        },
        {
          "data": {
            "image/png": "[encoded data removed]",
            "text/plain": [
              "<Figure size 432x288 with 1 Axes>"
            ]
          },
          "metadata": {
            "needs_background": "light"
          },
          "output_type": "display_data"
        }
      ],
      "source": [
        "plt.hist(y)\n",
        "plt.xlabel('USD AM')\n",
        "plt.ylabel('Frequency')"
      ]
    },
    {
      "cell_type": "code",
      "execution_count": null,
      "metadata": {
        "scrolled": true,
        "id": "jmdYYSzQ95JR",
        "outputId": "e431b516-ce49-4a87-dd4c-303dc7fff06c"
      },
      "outputs": [
        {
          "data": {
            "image/png": "[encoded data removed]",
            "text/plain": [
              "<Figure size 648x360 with 3 Axes>"
            ]
          },
          "metadata": {
            "needs_background": "light"
          },
          "output_type": "display_data"
        }
      ],
      "source": [
        "fig, axes = plt.subplots(nrows=1, ncols=3, figsize=(9, 5))\n",
        "\n",
        "axes[0].hist(y)\n",
        "axes[0].set_xlabel('Price\\n\\nHistogram plot of Oberseved Data')\n",
        "axes[0].set_ylabel('Frequency')\n",
        "\n",
        "axes[1].plot(y,beta.pdf(y_std,0.709, 1.735, -1.174, 3.864))\n",
        "axes[1].set_xlabel('Price\\n\\nBeta Distribution')\n",
        "axes[1].set_ylabel('pdf')\n",
        "\n",
        "axes[2].plot(y,pearson3.pdf(y_std,2.197, -5.868157922981844e-17, 1.290))\n",
        "axes[2].set_xlabel('Price\\n\\nPearson3 Distribution')\n",
        "axes[2].set_ylabel('pdf')\n",
        "fig.tight_layout()"
      ]
    },
    {
      "cell_type": "code",
      "execution_count": null,
      "metadata": {
        "id": "FobcxbGm95JR"
      },
      "outputs": [],
      "source": [
        "#Almost fit well, only one weird data when the price was going to hit 1000"
      ]
    },
    {
      "cell_type": "markdown",
      "metadata": {
        "id": "1jbkfh9w95JR"
      },
      "source": [
        "## < 2. Ethereum (ETH-USD) >"
      ]
    },
    {
      "cell_type": "code",
      "execution_count": null,
      "metadata": {
        "id": "YILFuIvO95JS",
        "outputId": "dcd39ccc-35a3-4e66-eb88-7adbaed5b441"
      },
      "outputs": [
        {
          "data": {
            "text/html": [
              "<div>\n",
              "<style scoped>\n",
              "    .dataframe tbody tr th:only-of-type {\n",
              "        vertical-align: middle;\n",
              "    }\n",
              "\n",
              "    .dataframe tbody tr th {\n",
              "        vertical-align: top;\n",
              "    }\n",
              "\n",
              "    .dataframe thead th {\n",
              "        text-align: right;\n",
              "    }\n",
              "</style>\n",
              "<table border=\"1\" class=\"dataframe\">\n",
              "  <thead>\n",
              "    <tr style=\"text-align: right;\">\n",
              "      <th></th>\n",
              "      <th>Open</th>\n",
              "      <th>High</th>\n",
              "      <th>Low</th>\n",
              "      <th>Close</th>\n",
              "      <th>Adj Close</th>\n",
              "      <th>Volume</th>\n",
              "    </tr>\n",
              "    <tr>\n",
              "      <th>Date</th>\n",
              "      <th></th>\n",
              "      <th></th>\n",
              "      <th></th>\n",
              "      <th></th>\n",
              "      <th></th>\n",
              "      <th></th>\n",
              "    </tr>\n",
              "  </thead>\n",
              "  <tbody>\n",
              "    <tr>\n",
              "      <th>2021-04-13</th>\n",
              "      <td>2139.364258</td>\n",
              "      <td>2318.423340</td>\n",
              "      <td>2138.559570</td>\n",
              "      <td>2299.187744</td>\n",
              "      <td>2299.187744</td>\n",
              "      <td>29456642939</td>\n",
              "    </tr>\n",
              "    <tr>\n",
              "      <th>2021-04-14</th>\n",
              "      <td>2299.347900</td>\n",
              "      <td>2449.687500</td>\n",
              "      <td>2284.563721</td>\n",
              "      <td>2435.104980</td>\n",
              "      <td>2435.104980</td>\n",
              "      <td>35592822986</td>\n",
              "    </tr>\n",
              "    <tr>\n",
              "      <th>2021-04-15</th>\n",
              "      <td>2436.034668</td>\n",
              "      <td>2544.267334</td>\n",
              "      <td>2409.924072</td>\n",
              "      <td>2519.116211</td>\n",
              "      <td>2519.116211</td>\n",
              "      <td>32325606817</td>\n",
              "    </tr>\n",
              "    <tr>\n",
              "      <th>2021-04-16</th>\n",
              "      <td>2516.601807</td>\n",
              "      <td>2547.555664</td>\n",
              "      <td>2318.675049</td>\n",
              "      <td>2431.946533</td>\n",
              "      <td>2431.946533</td>\n",
              "      <td>36196928256</td>\n",
              "    </tr>\n",
              "    <tr>\n",
              "      <th>2021-04-17</th>\n",
              "      <td>2488.684570</td>\n",
              "      <td>2497.183105</td>\n",
              "      <td>2436.967285</td>\n",
              "      <td>2485.725098</td>\n",
              "      <td>2485.725098</td>\n",
              "      <td>36580569088</td>\n",
              "    </tr>\n",
              "  </tbody>\n",
              "</table>\n",
              "</div>"
            ],
            "text/plain": [
              "                   Open         High          Low        Close    Adj Close  \\\n",
              "Date                                                                          \n",
              "2021-04-13  2139.364258  2318.423340  2138.559570  2299.187744  2299.187744   \n",
              "2021-04-14  2299.347900  2449.687500  2284.563721  2435.104980  2435.104980   \n",
              "2021-04-15  2436.034668  2544.267334  2409.924072  2519.116211  2519.116211   \n",
              "2021-04-16  2516.601807  2547.555664  2318.675049  2431.946533  2431.946533   \n",
              "2021-04-17  2488.684570  2497.183105  2436.967285  2485.725098  2485.725098   \n",
              "\n",
              "                 Volume  \n",
              "Date                     \n",
              "2021-04-13  29456642939  \n",
              "2021-04-14  35592822986  \n",
              "2021-04-15  32325606817  \n",
              "2021-04-16  36196928256  \n",
              "2021-04-17  36580569088  "
            ]
          },
          "execution_count": 118,
          "metadata": {},
          "output_type": "execute_result"
        }
      ],
      "source": [
        "data_ETH.tail()"
      ]
    },
    {
      "cell_type": "code",
      "execution_count": null,
      "metadata": {
        "id": "amwQScwP95JS",
        "outputId": "0c0c52d1-6e92-4bba-ce7a-d0f355b79551"
      },
      "outputs": [
        {
          "name": "stdout",
          "output_type": "stream",
          "text": [
            "<scipy.stats._continuous_distns.weibull_min_gen object at 0x000000000A080700>\n",
            "(0.6830509584259268, -0.797548142456469, 1.1380638660942628)\n",
            "\n",
            "<scipy.stats._continuous_distns.norm_gen object at 0x00000000095FF910>\n",
            "(-5.583832893988999e-17, 0.9999999999999999)\n",
            "\n",
            "<scipy.stats._continuous_distns.weibull_max_gen object at 0x000000000B35FB50>\n",
            "(0.6041803645389716, 4.677429339353136, 1.4372864037139919)\n",
            "\n",
            "<scipy.stats._continuous_distns.beta_gen object at 0x00000000095FF220>\n",
            "(0.5357552779721204, 39.43205381066517, -0.797548142456469, 64.04051305836128)\n",
            "\n",
            "<scipy.stats._continuous_distns.invgauss_gen object at 0x000000000B3DD8B0>\n",
            "(2.5792382000958867, -0.8674392660894668, 0.3363115957242719)\n",
            "\n",
            "<scipy.stats._continuous_distns.uniform_gen object at 0x000000000A054EB0>\n",
            "(-0.7975481424564689, 5.474977481809604)\n",
            "\n",
            "<scipy.stats._continuous_distns.gamma_gen object at 0x00000000096DD4C0>\n",
            "(0.5905480332347794, -0.797548142456469, 1.1790901144437225)\n",
            "\n",
            "<scipy.stats._continuous_distns.expon_gen object at 0x000000000A0808B0>\n",
            "(-0.7975481424564689, 0.7975481424564688)\n",
            "\n",
            "<scipy.stats._continuous_distns.lognorm_gen object at 0x0000000009961130>\n",
            "(1.912946852342961, -0.8002080136243588, 0.27665370536840217)\n",
            "\n",
            "<scipy.stats._continuous_distns.pearson3_gen object at 0x00000000096F88B0>\n",
            "(2.7459548958620346, -1.4721434662893709e-16, 1.0950156132320061)\n",
            "\n",
            "<scipy.stats._continuous_distns.triang_gen object at 0x000000000A054CA0>\n",
            "(1.9903538142628525e-08, -0.7975482653744022, 5.483654467221976)\n",
            "\n",
            "\n",
            "Distributions listed by Betterment of fit:\n",
            "............................................\n",
            "   Distribution  chi_square\n",
            "3          beta       133.0\n",
            "9      pearson3       170.0\n",
            "6         gamma       221.0\n",
            "0   weibull_min       408.0\n",
            "8       lognorm       423.0\n",
            "4      invgauss       433.0\n",
            "7         expon       443.0\n",
            "1          norm      3194.0\n",
            "10       triang      3304.0\n",
            "5       uniform      5459.0\n",
            "2   weibull_max      8443.0\n"
          ]
        }
      ],
      "source": [
        "df = data_ETH\n",
        "fit_distribution('Adj Close',0.99,0.01)"
      ]
    },
    {
      "cell_type": "code",
      "execution_count": null,
      "metadata": {
        "id": "3g2WmUem95JS"
      },
      "outputs": [],
      "source": [
        "y_std,len_y,y = standarise('Adj Close',0.99,0.01)"
      ]
    },
    {
      "cell_type": "code",
      "execution_count": null,
      "metadata": {
        "id": "D9zhVOKU95JS",
        "outputId": "c3911222-36ec-4e2f-d77a-308947d881b2"
      },
      "outputs": [
        {
          "data": {
            "text/plain": [
              "Text(0, 0.5, 'Frequency')"
            ]
          },
          "execution_count": 121,
          "metadata": {},
          "output_type": "execute_result"
        },
        {
          "data": {
            "image/png": "[encoded data removed]",
            "text/plain": [
              "<Figure size 432x288 with 1 Axes>"
            ]
          },
          "metadata": {
            "needs_background": "light"
          },
          "output_type": "display_data"
        }
      ],
      "source": [
        "plt.hist(y)\n",
        "plt.xlabel('Adj Close')\n",
        "plt.ylabel('Frequency')"
      ]
    },
    {
      "cell_type": "code",
      "execution_count": null,
      "metadata": {
        "id": "iZ7HC-xD95JT",
        "outputId": "9a6e089c-a964-433d-c770-75021d90a1c3"
      },
      "outputs": [
        {
          "data": {
            "image/png": "[encoded data removed]",
            "text/plain": [
              "<Figure size 648x360 with 3 Axes>"
            ]
          },
          "metadata": {
            "needs_background": "light"
          },
          "output_type": "display_data"
        }
      ],
      "source": [
        "fig, axes = plt.subplots(nrows=1, ncols=3, figsize=(9, 5))\n",
        "\n",
        "axes[0].hist(y)\n",
        "axes[0].set_xlabel('Price\\n\\nHistogram plot of Oberseved Data')\n",
        "axes[0].set_ylabel('Frequency')\n",
        "\n",
        "axes[1].plot(y,beta.pdf(y_std,0.53, 39.43, -0.79, 64.04))\n",
        "axes[1].set_xlabel('Price\\n\\nBeta Distribution')\n",
        "axes[1].set_ylabel('pdf')\n",
        "\n",
        "axes[2].plot(y,pearson3.pdf(y_std,2.74, -1.4721434662893709e-16, 1.09))\n",
        "axes[2].set_xlabel('Price\\n\\nPearson3 Distribution')\n",
        "axes[2].set_ylabel('pdf')\n",
        "fig.tight_layout()"
      ]
    },
    {
      "cell_type": "code",
      "execution_count": null,
      "metadata": {
        "id": "TlHzF8W195JT"
      },
      "outputs": [],
      "source": [
        "#Almost fit"
      ]
    },
    {
      "cell_type": "markdown",
      "metadata": {
        "id": "yK2yz3QE95JT"
      },
      "source": [
        "## < 3. Alphabet Inc. (GOOG) (USD) >"
      ]
    },
    {
      "cell_type": "code",
      "execution_count": null,
      "metadata": {
        "id": "IB8WbcfN95JT",
        "outputId": "55a5c77a-8681-4446-aa52-4c23ae04ea39"
      },
      "outputs": [
        {
          "data": {
            "text/html": [
              "<div>\n",
              "<style scoped>\n",
              "    .dataframe tbody tr th:only-of-type {\n",
              "        vertical-align: middle;\n",
              "    }\n",
              "\n",
              "    .dataframe tbody tr th {\n",
              "        vertical-align: top;\n",
              "    }\n",
              "\n",
              "    .dataframe thead th {\n",
              "        text-align: right;\n",
              "    }\n",
              "</style>\n",
              "<table border=\"1\" class=\"dataframe\">\n",
              "  <thead>\n",
              "    <tr style=\"text-align: right;\">\n",
              "      <th></th>\n",
              "      <th>Open</th>\n",
              "      <th>High</th>\n",
              "      <th>Low</th>\n",
              "      <th>Close</th>\n",
              "      <th>Adj Close</th>\n",
              "      <th>Volume</th>\n",
              "    </tr>\n",
              "    <tr>\n",
              "      <th>Date</th>\n",
              "      <th></th>\n",
              "      <th></th>\n",
              "      <th></th>\n",
              "      <th></th>\n",
              "      <th></th>\n",
              "      <th></th>\n",
              "    </tr>\n",
              "  </thead>\n",
              "  <tbody>\n",
              "    <tr>\n",
              "      <th>2021-04-12</th>\n",
              "      <td>2266.250000</td>\n",
              "      <td>2275.320068</td>\n",
              "      <td>2238.465088</td>\n",
              "      <td>2254.790039</td>\n",
              "      <td>2254.790039</td>\n",
              "      <td>1565900</td>\n",
              "    </tr>\n",
              "    <tr>\n",
              "      <th>2021-04-13</th>\n",
              "      <td>2261.469971</td>\n",
              "      <td>2277.209961</td>\n",
              "      <td>2256.090088</td>\n",
              "      <td>2267.270020</td>\n",
              "      <td>2267.270020</td>\n",
              "      <td>1165500</td>\n",
              "    </tr>\n",
              "    <tr>\n",
              "      <th>2021-04-14</th>\n",
              "      <td>2275.159912</td>\n",
              "      <td>2277.989990</td>\n",
              "      <td>2249.189941</td>\n",
              "      <td>2254.840088</td>\n",
              "      <td>2254.840088</td>\n",
              "      <td>1011000</td>\n",
              "    </tr>\n",
              "    <tr>\n",
              "      <th>2021-04-15</th>\n",
              "      <td>2276.979980</td>\n",
              "      <td>2306.596924</td>\n",
              "      <td>2266.000000</td>\n",
              "      <td>2296.659912</td>\n",
              "      <td>2296.659912</td>\n",
              "      <td>1373600</td>\n",
              "    </tr>\n",
              "    <tr>\n",
              "      <th>2021-04-16</th>\n",
              "      <td>2303.000000</td>\n",
              "      <td>2306.439941</td>\n",
              "      <td>2284.449951</td>\n",
              "      <td>2297.760010</td>\n",
              "      <td>2297.760010</td>\n",
              "      <td>1129800</td>\n",
              "    </tr>\n",
              "  </tbody>\n",
              "</table>\n",
              "</div>"
            ],
            "text/plain": [
              "                   Open         High          Low        Close    Adj Close  \\\n",
              "Date                                                                          \n",
              "2021-04-12  2266.250000  2275.320068  2238.465088  2254.790039  2254.790039   \n",
              "2021-04-13  2261.469971  2277.209961  2256.090088  2267.270020  2267.270020   \n",
              "2021-04-14  2275.159912  2277.989990  2249.189941  2254.840088  2254.840088   \n",
              "2021-04-15  2276.979980  2306.596924  2266.000000  2296.659912  2296.659912   \n",
              "2021-04-16  2303.000000  2306.439941  2284.449951  2297.760010  2297.760010   \n",
              "\n",
              "             Volume  \n",
              "Date                 \n",
              "2021-04-12  1565900  \n",
              "2021-04-13  1165500  \n",
              "2021-04-14  1011000  \n",
              "2021-04-15  1373600  \n",
              "2021-04-16  1129800  "
            ]
          },
          "execution_count": 127,
          "metadata": {},
          "output_type": "execute_result"
        }
      ],
      "source": [
        "data_GOOG.tail()"
      ]
    },
    {
      "cell_type": "code",
      "execution_count": null,
      "metadata": {
        "id": "1ibuk9QH95JU",
        "outputId": "4dd8ea20-cf4a-4741-89d0-49df63b3e5d1"
      },
      "outputs": [
        {
          "name": "stdout",
          "output_type": "stream",
          "text": [
            "<scipy.stats._continuous_distns.weibull_min_gen object at 0x000000000A080700>\n",
            "(1.0560062691980283, -1.1723949710764647, 1.218845653622014)\n",
            "\n",
            "<scipy.stats._continuous_distns.norm_gen object at 0x00000000095FF910>\n",
            "(0.0, 1.0)\n",
            "\n",
            "<scipy.stats._continuous_distns.weibull_max_gen object at 0x000000000B35FB50>\n",
            "(0.6948099082270864, 3.514600010633397, 1.2307960056252978)\n",
            "\n",
            "<scipy.stats._continuous_distns.beta_gen object at 0x00000000095FF220>\n",
            "(0.7054532566417973, 1.7742987050921304, -1.1723771118080994, 4.700738485030452)\n",
            "\n",
            "<scipy.stats._continuous_distns.invgauss_gen object at 0x000000000B3DD8B0>\n",
            "(0.7933455552815017, -1.3076649873177129, 1.6482900736360373)\n",
            "\n",
            "<scipy.stats._continuous_distns.uniform_gen object at 0x000000000A054EB0>\n",
            "(-1.1723771118080992, 4.686977122441496)\n",
            "\n",
            "<scipy.stats._continuous_distns.gamma_gen object at 0x00000000096DD4C0>\n",
            "(1.3481358617734212, -1.1726452878037699, 0.8698299895789303)\n",
            "\n",
            "<scipy.stats._continuous_distns.expon_gen object at 0x000000000A0808B0>\n",
            "(-1.1723771118080992, 1.1723771118080992)\n",
            "\n",
            "<scipy.stats._continuous_distns.lognorm_gen object at 0x0000000009961130>\n",
            "(0.860227088762417, -1.2395355466599338, 0.8813778061858031)\n",
            "\n",
            "<scipy.stats._continuous_distns.pearson3_gen object at 0x00000000096F88B0>\n",
            "(1.722551827958248, -0.00306590075329258, 1.007329296301283)\n",
            "\n",
            "<scipy.stats._continuous_distns.triang_gen object at 0x000000000A054CA0>\n",
            "(0.00954071180036678, -1.1746938196249985, 4.698664020340693)\n",
            "\n",
            "\n",
            "Distributions listed by Betterment of fit:\n",
            "............................................\n",
            "   Distribution  chi_square\n",
            "4      invgauss       187.0\n",
            "8       lognorm       194.0\n",
            "9      pearson3       302.0\n",
            "6         gamma       303.0\n",
            "0   weibull_min       427.0\n",
            "7         expon       615.0\n",
            "3          beta       744.0\n",
            "10       triang      1533.0\n",
            "1          norm      2910.0\n",
            "5       uniform      5535.0\n",
            "2   weibull_max     14891.0\n"
          ]
        }
      ],
      "source": [
        "df = data_GOOG\n",
        "fit_distribution('Adj Close',0.99,0.01)"
      ]
    },
    {
      "cell_type": "code",
      "execution_count": null,
      "metadata": {
        "id": "lPAZENAJ95JV"
      },
      "outputs": [],
      "source": [
        "y_std,len_y,y = standarise('Adj Close',0.99,0.01)"
      ]
    },
    {
      "cell_type": "code",
      "execution_count": null,
      "metadata": {
        "id": "liOT5b2k95JV",
        "outputId": "5038014b-dcc3-4766-c42f-da6166e5b09e"
      },
      "outputs": [
        {
          "data": {
            "text/plain": [
              "Text(0, 0.5, 'Frequency')"
            ]
          },
          "execution_count": 130,
          "metadata": {},
          "output_type": "execute_result"
        },
        {
          "data": {
            "image/png": "[encoded data removed]",
            "text/plain": [
              "<Figure size 432x288 with 1 Axes>"
            ]
          },
          "metadata": {
            "needs_background": "light"
          },
          "output_type": "display_data"
        }
      ],
      "source": [
        "plt.hist(y)\n",
        "plt.xlabel('Adj Close')\n",
        "plt.ylabel('Frequency')"
      ]
    },
    {
      "cell_type": "code",
      "execution_count": null,
      "metadata": {
        "id": "4fGT0IZw95JV",
        "outputId": "87083aab-f6d6-4748-8b13-b76c8bc309c0"
      },
      "outputs": [
        {
          "data": {
            "image/png": "[encoded data removed]",
            "text/plain": [
              "<Figure size 648x360 with 3 Axes>"
            ]
          },
          "metadata": {
            "needs_background": "light"
          },
          "output_type": "display_data"
        }
      ],
      "source": [
        "fig, axes = plt.subplots(nrows=1, ncols=3, figsize=(9, 5))\n",
        "\n",
        "axes[0].hist(y)\n",
        "axes[0].set_xlabel('Price\\n\\nHistogram plot of Oberseved Data')\n",
        "axes[0].set_ylabel('Frequency')\n",
        "\n",
        "axes[1].plot(y,invgauss.pdf(y_std,0.79, -1.30, 1.64))\n",
        "axes[1].set_xlabel('Price\\n\\nInverse Gaussian Distribution')\n",
        "axes[1].set_ylabel('pdf')\n",
        "\n",
        "axes[2].plot(y,lognorm.pdf(y_std,0.86, -1.23, 0.88))\n",
        "axes[2].set_xlabel('Price\\n\\nLog Normal Distribution')\n",
        "axes[2].set_ylabel('pdf')\n",
        "fig.tight_layout()"
      ]
    },
    {
      "cell_type": "code",
      "execution_count": null,
      "metadata": {
        "id": "Jrw_pV5B95JV"
      },
      "outputs": [],
      "source": [
        "#FIT VERY WELL"
      ]
    },
    {
      "cell_type": "markdown",
      "metadata": {
        "id": "V15-wYKC95JV"
      },
      "source": [
        "## < 4. Tesla, Inc. (TSLA) (USD) >"
      ]
    },
    {
      "cell_type": "code",
      "execution_count": null,
      "metadata": {
        "id": "rEOZVdc595JW",
        "outputId": "53ee8f00-d94e-499c-92c0-e1d07747a17b"
      },
      "outputs": [
        {
          "data": {
            "text/html": [
              "<div>\n",
              "<style scoped>\n",
              "    .dataframe tbody tr th:only-of-type {\n",
              "        vertical-align: middle;\n",
              "    }\n",
              "\n",
              "    .dataframe tbody tr th {\n",
              "        vertical-align: top;\n",
              "    }\n",
              "\n",
              "    .dataframe thead th {\n",
              "        text-align: right;\n",
              "    }\n",
              "</style>\n",
              "<table border=\"1\" class=\"dataframe\">\n",
              "  <thead>\n",
              "    <tr style=\"text-align: right;\">\n",
              "      <th></th>\n",
              "      <th>Open</th>\n",
              "      <th>High</th>\n",
              "      <th>Low</th>\n",
              "      <th>Close</th>\n",
              "      <th>Adj Close</th>\n",
              "      <th>Volume</th>\n",
              "    </tr>\n",
              "    <tr>\n",
              "      <th>Date</th>\n",
              "      <th></th>\n",
              "      <th></th>\n",
              "      <th></th>\n",
              "      <th></th>\n",
              "      <th></th>\n",
              "      <th></th>\n",
              "    </tr>\n",
              "  </thead>\n",
              "  <tbody>\n",
              "    <tr>\n",
              "      <th>2021-04-12</th>\n",
              "      <td>685.700012</td>\n",
              "      <td>704.799988</td>\n",
              "      <td>682.090027</td>\n",
              "      <td>701.979980</td>\n",
              "      <td>701.979980</td>\n",
              "      <td>29135700</td>\n",
              "    </tr>\n",
              "    <tr>\n",
              "      <th>2021-04-13</th>\n",
              "      <td>712.700012</td>\n",
              "      <td>763.000000</td>\n",
              "      <td>710.659973</td>\n",
              "      <td>762.320007</td>\n",
              "      <td>762.320007</td>\n",
              "      <td>44652800</td>\n",
              "    </tr>\n",
              "    <tr>\n",
              "      <th>2021-04-14</th>\n",
              "      <td>770.700012</td>\n",
              "      <td>780.789978</td>\n",
              "      <td>728.030029</td>\n",
              "      <td>732.229980</td>\n",
              "      <td>732.229980</td>\n",
              "      <td>49017400</td>\n",
              "    </tr>\n",
              "    <tr>\n",
              "      <th>2021-04-15</th>\n",
              "      <td>743.099976</td>\n",
              "      <td>743.690002</td>\n",
              "      <td>721.309998</td>\n",
              "      <td>738.849976</td>\n",
              "      <td>738.849976</td>\n",
              "      <td>27848900</td>\n",
              "    </tr>\n",
              "    <tr>\n",
              "      <th>2021-04-16</th>\n",
              "      <td>728.650024</td>\n",
              "      <td>749.409973</td>\n",
              "      <td>724.599976</td>\n",
              "      <td>739.780029</td>\n",
              "      <td>739.780029</td>\n",
              "      <td>27924000</td>\n",
              "    </tr>\n",
              "  </tbody>\n",
              "</table>\n",
              "</div>"
            ],
            "text/plain": [
              "                  Open        High         Low       Close   Adj Close  \\\n",
              "Date                                                                     \n",
              "2021-04-12  685.700012  704.799988  682.090027  701.979980  701.979980   \n",
              "2021-04-13  712.700012  763.000000  710.659973  762.320007  762.320007   \n",
              "2021-04-14  770.700012  780.789978  728.030029  732.229980  732.229980   \n",
              "2021-04-15  743.099976  743.690002  721.309998  738.849976  738.849976   \n",
              "2021-04-16  728.650024  749.409973  724.599976  739.780029  739.780029   \n",
              "\n",
              "              Volume  \n",
              "Date                  \n",
              "2021-04-12  29135700  \n",
              "2021-04-13  44652800  \n",
              "2021-04-14  49017400  \n",
              "2021-04-15  27848900  \n",
              "2021-04-16  27924000  "
            ]
          },
          "execution_count": 132,
          "metadata": {},
          "output_type": "execute_result"
        }
      ],
      "source": [
        "data_TSLA.tail()"
      ]
    },
    {
      "cell_type": "code",
      "execution_count": null,
      "metadata": {
        "id": "EJH6YMDH95JW",
        "outputId": "d8aeabdd-af69-4280-fe9f-4d9f327fd1de"
      },
      "outputs": [
        {
          "name": "stdout",
          "output_type": "stream",
          "text": [
            "<scipy.stats._continuous_distns.weibull_min_gen object at 0x000000000A080700>\n",
            "(0.6054661280319865, -0.5529883480730766, 0.8043957539614144)\n",
            "\n",
            "<scipy.stats._continuous_distns.norm_gen object at 0x00000000095FF910>\n",
            "(-4.2675239384991e-17, 1.0)\n",
            "\n",
            "<scipy.stats._continuous_distns.weibull_max_gen object at 0x000000000B35FB50>\n",
            "(1849805592.2880685, 666525237.1297326, 666525237.4208935)\n",
            "\n",
            "<scipy.stats._continuous_distns.beta_gen object at 0x00000000095FF220>\n",
            "(0.5515608133139642, 42.443815896392664, -0.5529883480730766, 43.08893719192239)\n",
            "\n",
            "<scipy.stats._continuous_distns.invgauss_gen object at 0x000000000B3DD8B0>\n",
            "(2.979970532818939, -0.5902248588804544, 0.19806367757838078)\n",
            "\n",
            "<scipy.stats._continuous_distns.uniform_gen object at 0x000000000A054EB0>\n",
            "(-0.5529883480730765, 6.393059547652783)\n",
            "\n",
            "<scipy.stats._continuous_distns.gamma_gen object at 0x00000000096DD4C0>\n",
            "(0.4753516768977051, -0.5529883480730766, 1.3209159778679829)\n",
            "\n",
            "<scipy.stats._continuous_distns.expon_gen object at 0x000000000A0808B0>\n",
            "(-0.5529883480730765, 0.5529883480730765)\n",
            "\n",
            "<scipy.stats._continuous_distns.lognorm_gen object at 0x0000000009961130>\n",
            "(1.6860687007894937, -0.5548034150991534, 0.1933529376395829)\n",
            "\n",
            "<scipy.stats._continuous_distns.pearson3_gen object at 0x00000000096F88B0>\n",
            "(2.6797181611794776, -6.330240969132019e-17, 0.7409264596260307)\n",
            "\n",
            "<scipy.stats._continuous_distns.triang_gen object at 0x000000000A054CA0>\n",
            "(8.799817076015513e-09, -0.5529885432224115, 6.418798174508047)\n",
            "\n",
            "\n",
            "Distributions listed by Betterment of fit:\n",
            "............................................\n",
            "   Distribution  chi_square\n",
            "3          beta       479.0\n",
            "9      pearson3       482.0\n",
            "6         gamma       526.0\n",
            "7         expon       832.0\n",
            "0   weibull_min       844.0\n",
            "4      invgauss       922.0\n",
            "8       lognorm       998.0\n",
            "2   weibull_max      2152.0\n",
            "1          norm      6962.0\n",
            "10       triang      7653.0\n",
            "5       uniform      9589.0\n"
          ]
        }
      ],
      "source": [
        "df = data_TSLA\n",
        "fit_distribution('Adj Close',0.99,0.01)"
      ]
    },
    {
      "cell_type": "code",
      "execution_count": null,
      "metadata": {
        "id": "rZ_441ts95JW"
      },
      "outputs": [],
      "source": [
        "y_std,len_y,y = standarise('Adj Close',0.99,0.01)"
      ]
    },
    {
      "cell_type": "code",
      "execution_count": null,
      "metadata": {
        "id": "QHD93QCf95JW",
        "outputId": "7a32b891-8d45-4a40-cc38-7799babdbbfb"
      },
      "outputs": [
        {
          "data": {
            "text/plain": [
              "Text(0, 0.5, 'Frequency')"
            ]
          },
          "execution_count": 137,
          "metadata": {},
          "output_type": "execute_result"
        },
        {
          "data": {
            "image/png": "[encoded data removed]",
            "text/plain": [
              "<Figure size 432x288 with 1 Axes>"
            ]
          },
          "metadata": {
            "needs_background": "light"
          },
          "output_type": "display_data"
        }
      ],
      "source": [
        "plt.hist(y)\n",
        "plt.xlabel('Adj Close')\n",
        "plt.ylabel('Frequency')"
      ]
    },
    {
      "cell_type": "code",
      "execution_count": null,
      "metadata": {
        "id": "lgRBYxNp95JW",
        "outputId": "5312e995-3a24-48ab-ebec-57b776a4a16e"
      },
      "outputs": [
        {
          "data": {
            "image/png": "[encoded data removed]",
            "text/plain": [
              "<Figure size 648x360 with 3 Axes>"
            ]
          },
          "metadata": {
            "needs_background": "light"
          },
          "output_type": "display_data"
        }
      ],
      "source": [
        "fig, axes = plt.subplots(nrows=1, ncols=3, figsize=(9, 5))\n",
        "\n",
        "axes[0].hist(y)\n",
        "axes[0].set_xlabel('Price\\n\\nHistogram plot of Oberseved Data')\n",
        "axes[0].set_ylabel('Frequency')\n",
        "\n",
        "axes[1].plot(y,beta.pdf(y_std,0.55, 42.44, -0.55, 43.08))\n",
        "axes[1].set_xlabel('Price\\n\\nBeta Distribution')\n",
        "axes[1].set_ylabel('pdf')\n",
        "\n",
        "axes[2].plot(y,pearson3.pdf(y_std,2.67, -6.330240969132019e-17, 0.74))\n",
        "axes[2].set_xlabel('Price\\n\\nPearson3 Distribution')\n",
        "axes[2].set_ylabel('pdf')\n",
        "fig.tight_layout()"
      ]
    },
    {
      "cell_type": "code",
      "execution_count": null,
      "metadata": {
        "id": "nFZFSkv095JX"
      },
      "outputs": [],
      "source": [
        "#FIT VERY WELL"
      ]
    },
    {
      "cell_type": "markdown",
      "metadata": {
        "id": "CXusIcNG95JX"
      },
      "source": [
        "# Correlation Matrix"
      ]
    },
    {
      "cell_type": "code",
      "execution_count": null,
      "metadata": {
        "id": "tF0UtuI395JX",
        "outputId": "489f1802-a436-4a16-ddf2-96750b601a78"
      },
      "outputs": [
        {
          "data": {
            "text/html": [
              "<div>\n",
              "<style scoped>\n",
              "    .dataframe tbody tr th:only-of-type {\n",
              "        vertical-align: middle;\n",
              "    }\n",
              "\n",
              "    .dataframe tbody tr th {\n",
              "        vertical-align: top;\n",
              "    }\n",
              "\n",
              "    .dataframe thead th {\n",
              "        text-align: right;\n",
              "    }\n",
              "</style>\n",
              "<table border=\"1\" class=\"dataframe\">\n",
              "  <thead>\n",
              "    <tr style=\"text-align: right;\">\n",
              "      <th></th>\n",
              "      <th>USD AM</th>\n",
              "    </tr>\n",
              "    <tr>\n",
              "      <th>Date</th>\n",
              "      <th></th>\n",
              "    </tr>\n",
              "  </thead>\n",
              "  <tbody>\n",
              "    <tr>\n",
              "      <th>2021-04-09</th>\n",
              "      <td>1213.0</td>\n",
              "    </tr>\n",
              "    <tr>\n",
              "      <th>2021-04-12</th>\n",
              "      <td>1186.0</td>\n",
              "    </tr>\n",
              "    <tr>\n",
              "      <th>2021-04-13</th>\n",
              "      <td>1171.0</td>\n",
              "    </tr>\n",
              "    <tr>\n",
              "      <th>2021-04-14</th>\n",
              "      <td>1180.0</td>\n",
              "    </tr>\n",
              "    <tr>\n",
              "      <th>2021-04-15</th>\n",
              "      <td>1191.0</td>\n",
              "    </tr>\n",
              "  </tbody>\n",
              "</table>\n",
              "</div>"
            ],
            "text/plain": [
              "            USD AM\n",
              "Date              \n",
              "2021-04-09  1213.0\n",
              "2021-04-12  1186.0\n",
              "2021-04-13  1171.0\n",
              "2021-04-14  1180.0\n",
              "2021-04-15  1191.0"
            ]
          },
          "execution_count": 139,
          "metadata": {},
          "output_type": "execute_result"
        }
      ],
      "source": [
        "dfc = quandl.get('LPPM/PLAT.1')\n",
        "dfc.tail()"
      ]
    },
    {
      "cell_type": "code",
      "execution_count": null,
      "metadata": {
        "id": "YetklP-l95JX"
      },
      "outputs": [],
      "source": [
        "dfc[\"ETH\"] = data_ETH[\"Adj Close\"]\n",
        "dfc[\"GOOG\"] = data_GOOG[\"Adj Close\"]\n",
        "dfc[\"TSLA\"] = data_TSLA[\"Adj Close\"]"
      ]
    },
    {
      "cell_type": "code",
      "execution_count": null,
      "metadata": {
        "id": "xrymn9Ri95JY",
        "outputId": "4a2c57c8-06de-46f6-bb3e-62c17a7ca4dd"
      },
      "outputs": [
        {
          "data": {
            "text/html": [
              "<div>\n",
              "<style scoped>\n",
              "    .dataframe tbody tr th:only-of-type {\n",
              "        vertical-align: middle;\n",
              "    }\n",
              "\n",
              "    .dataframe tbody tr th {\n",
              "        vertical-align: top;\n",
              "    }\n",
              "\n",
              "    .dataframe thead th {\n",
              "        text-align: right;\n",
              "    }\n",
              "</style>\n",
              "<table border=\"1\" class=\"dataframe\">\n",
              "  <thead>\n",
              "    <tr style=\"text-align: right;\">\n",
              "      <th></th>\n",
              "      <th>PLAT</th>\n",
              "      <th>ETH</th>\n",
              "      <th>GOOG</th>\n",
              "      <th>TSLA</th>\n",
              "    </tr>\n",
              "    <tr>\n",
              "      <th>Date</th>\n",
              "      <th></th>\n",
              "      <th></th>\n",
              "      <th></th>\n",
              "      <th></th>\n",
              "    </tr>\n",
              "  </thead>\n",
              "  <tbody>\n",
              "    <tr>\n",
              "      <th>2021-04-09</th>\n",
              "      <td>1213.0</td>\n",
              "      <td>2072.108887</td>\n",
              "      <td>2285.879883</td>\n",
              "      <td>677.020020</td>\n",
              "    </tr>\n",
              "    <tr>\n",
              "      <th>2021-04-12</th>\n",
              "      <td>1186.0</td>\n",
              "      <td>2139.353271</td>\n",
              "      <td>2254.790039</td>\n",
              "      <td>701.979980</td>\n",
              "    </tr>\n",
              "    <tr>\n",
              "      <th>2021-04-13</th>\n",
              "      <td>1171.0</td>\n",
              "      <td>2299.187744</td>\n",
              "      <td>2267.270020</td>\n",
              "      <td>762.320007</td>\n",
              "    </tr>\n",
              "    <tr>\n",
              "      <th>2021-04-14</th>\n",
              "      <td>1180.0</td>\n",
              "      <td>2435.104980</td>\n",
              "      <td>2254.840088</td>\n",
              "      <td>732.229980</td>\n",
              "    </tr>\n",
              "    <tr>\n",
              "      <th>2021-04-15</th>\n",
              "      <td>1191.0</td>\n",
              "      <td>2519.116211</td>\n",
              "      <td>2296.659912</td>\n",
              "      <td>738.849976</td>\n",
              "    </tr>\n",
              "  </tbody>\n",
              "</table>\n",
              "</div>"
            ],
            "text/plain": [
              "              PLAT          ETH         GOOG        TSLA\n",
              "Date                                                    \n",
              "2021-04-09  1213.0  2072.108887  2285.879883  677.020020\n",
              "2021-04-12  1186.0  2139.353271  2254.790039  701.979980\n",
              "2021-04-13  1171.0  2299.187744  2267.270020  762.320007\n",
              "2021-04-14  1180.0  2435.104980  2254.840088  732.229980\n",
              "2021-04-15  1191.0  2519.116211  2296.659912  738.849976"
            ]
          },
          "execution_count": 141,
          "metadata": {},
          "output_type": "execute_result"
        }
      ],
      "source": [
        "dfc = dfc.rename(columns = {'USD AM': 'PLAT'}, inplace = False)\n",
        "dfc.tail()\n",
        "# PLAT = Platinum Fixing (USD-AM), ETH = Ethereum (ETH-USD), GOOG = Alphabet Inc. (GOOG) (USD), TSLA = Tesla Inc. (TSLA) (USD)"
      ]
    },
    {
      "cell_type": "code",
      "execution_count": null,
      "metadata": {
        "id": "o7Jn7C_095JY",
        "outputId": "224e50c2-6fd5-412f-ee93-c7692581fbb2"
      },
      "outputs": [
        {
          "data": {
            "text/html": [
              "<div>\n",
              "<style scoped>\n",
              "    .dataframe tbody tr th:only-of-type {\n",
              "        vertical-align: middle;\n",
              "    }\n",
              "\n",
              "    .dataframe tbody tr th {\n",
              "        vertical-align: top;\n",
              "    }\n",
              "\n",
              "    .dataframe thead th {\n",
              "        text-align: right;\n",
              "    }\n",
              "</style>\n",
              "<table border=\"1\" class=\"dataframe\">\n",
              "  <thead>\n",
              "    <tr style=\"text-align: right;\">\n",
              "      <th></th>\n",
              "      <th>PLAT</th>\n",
              "      <th>ETH</th>\n",
              "      <th>GOOG</th>\n",
              "      <th>TSLA</th>\n",
              "    </tr>\n",
              "    <tr>\n",
              "      <th>Date</th>\n",
              "      <th></th>\n",
              "      <th></th>\n",
              "      <th></th>\n",
              "      <th></th>\n",
              "    </tr>\n",
              "  </thead>\n",
              "  <tbody>\n",
              "    <tr>\n",
              "      <th>2021-04-09</th>\n",
              "      <td>-0.013019</td>\n",
              "      <td>-0.007883</td>\n",
              "      <td>0.009023</td>\n",
              "      <td>-0.009915</td>\n",
              "    </tr>\n",
              "    <tr>\n",
              "      <th>2021-04-12</th>\n",
              "      <td>-0.022259</td>\n",
              "      <td>0.032452</td>\n",
              "      <td>-0.013601</td>\n",
              "      <td>0.036867</td>\n",
              "    </tr>\n",
              "    <tr>\n",
              "      <th>2021-04-13</th>\n",
              "      <td>-0.012648</td>\n",
              "      <td>0.074712</td>\n",
              "      <td>0.005535</td>\n",
              "      <td>0.085957</td>\n",
              "    </tr>\n",
              "    <tr>\n",
              "      <th>2021-04-14</th>\n",
              "      <td>0.007686</td>\n",
              "      <td>0.059115</td>\n",
              "      <td>-0.005482</td>\n",
              "      <td>-0.039472</td>\n",
              "    </tr>\n",
              "    <tr>\n",
              "      <th>2021-04-15</th>\n",
              "      <td>0.009322</td>\n",
              "      <td>0.034500</td>\n",
              "      <td>0.018547</td>\n",
              "      <td>0.009041</td>\n",
              "    </tr>\n",
              "  </tbody>\n",
              "</table>\n",
              "</div>"
            ],
            "text/plain": [
              "                PLAT       ETH      GOOG      TSLA\n",
              "Date                                              \n",
              "2021-04-09 -0.013019 -0.007883  0.009023 -0.009915\n",
              "2021-04-12 -0.022259  0.032452 -0.013601  0.036867\n",
              "2021-04-13 -0.012648  0.074712  0.005535  0.085957\n",
              "2021-04-14  0.007686  0.059115 -0.005482 -0.039472\n",
              "2021-04-15  0.009322  0.034500  0.018547  0.009041"
            ]
          },
          "execution_count": 142,
          "metadata": {},
          "output_type": "execute_result"
        }
      ],
      "source": [
        "dfc.pct_change().tail()"
      ]
    },
    {
      "cell_type": "code",
      "execution_count": null,
      "metadata": {
        "id": "NCr4pC9N95JY",
        "outputId": "a6301f08-3229-40fe-ec44-f8d599de9186"
      },
      "outputs": [
        {
          "data": {
            "text/html": [
              "<div>\n",
              "<style scoped>\n",
              "    .dataframe tbody tr th:only-of-type {\n",
              "        vertical-align: middle;\n",
              "    }\n",
              "\n",
              "    .dataframe tbody tr th {\n",
              "        vertical-align: top;\n",
              "    }\n",
              "\n",
              "    .dataframe thead th {\n",
              "        text-align: right;\n",
              "    }\n",
              "</style>\n",
              "<table border=\"1\" class=\"dataframe\">\n",
              "  <thead>\n",
              "    <tr style=\"text-align: right;\">\n",
              "      <th></th>\n",
              "      <th>PLAT</th>\n",
              "      <th>ETH</th>\n",
              "      <th>GOOG</th>\n",
              "      <th>TSLA</th>\n",
              "    </tr>\n",
              "  </thead>\n",
              "  <tbody>\n",
              "    <tr>\n",
              "      <th>PLAT</th>\n",
              "      <td>1.000000</td>\n",
              "      <td>0.051780</td>\n",
              "      <td>0.049115</td>\n",
              "      <td>0.115128</td>\n",
              "    </tr>\n",
              "    <tr>\n",
              "      <th>ETH</th>\n",
              "      <td>0.051780</td>\n",
              "      <td>1.000000</td>\n",
              "      <td>0.109912</td>\n",
              "      <td>0.044219</td>\n",
              "    </tr>\n",
              "    <tr>\n",
              "      <th>GOOG</th>\n",
              "      <td>0.049115</td>\n",
              "      <td>0.109912</td>\n",
              "      <td>1.000000</td>\n",
              "      <td>0.306243</td>\n",
              "    </tr>\n",
              "    <tr>\n",
              "      <th>TSLA</th>\n",
              "      <td>0.115128</td>\n",
              "      <td>0.044219</td>\n",
              "      <td>0.306243</td>\n",
              "      <td>1.000000</td>\n",
              "    </tr>\n",
              "  </tbody>\n",
              "</table>\n",
              "</div>"
            ],
            "text/plain": [
              "          PLAT       ETH      GOOG      TSLA\n",
              "PLAT  1.000000  0.051780  0.049115  0.115128\n",
              "ETH   0.051780  1.000000  0.109912  0.044219\n",
              "GOOG  0.049115  0.109912  1.000000  0.306243\n",
              "TSLA  0.115128  0.044219  0.306243  1.000000"
            ]
          },
          "execution_count": 143,
          "metadata": {},
          "output_type": "execute_result"
        }
      ],
      "source": [
        "dfc.pct_change().corr()"
      ]
    },
    {
      "cell_type": "markdown",
      "metadata": {
        "id": "5MlnAxMD95JY"
      },
      "source": [
        "## - Plotting Correlations"
      ]
    },
    {
      "cell_type": "code",
      "execution_count": null,
      "metadata": {
        "id": "r03Y4RUI95JZ",
        "outputId": "605156ec-45bb-42e9-c729-d428039ffbcd"
      },
      "outputs": [
        {
          "name": "stdout",
          "output_type": "stream",
          "text": [
            "[*********************100%***********************]  2 of 2 completed\n"
          ]
        },
        {
          "data": {
            "image/png": "[encoded data removed]",
            "text/plain": [
              "<Figure size 864x576 with 1 Axes>"
            ]
          },
          "metadata": {
            "needs_background": "light"
          },
          "output_type": "display_data"
        }
      ],
      "source": [
        "#Alphabet Inc. (GOOG) (USD), Tesla, Inc. (TSLA) (USD)\n",
        "df = yf.download(\"GOOG TSLA\")\n",
        "\n",
        "df_filled = df[\"Adj Close\"].asfreq('D', method='ffill')\n",
        "daily_changes= df_filled.pct_change()\n",
        "GOOG_returns = daily_changes[\"GOOG\"]\n",
        "TSLA_returns = daily_changes[\"TSLA\"]\n",
        "window = int(len(df_filled.index)/2)\n",
        "\n",
        "df_corrs = GOOG_returns\\\n",
        "    .rolling(window=window, min_periods=window)\\\n",
        "    .corr(other=TSLA_returns)\\\n",
        "    .dropna()\n",
        "\n",
        "df_corrs.plot(figsize=(12, 8));"
      ]
    },
    {
      "cell_type": "code",
      "execution_count": null,
      "metadata": {
        "id": "6lWxdPHJ95JZ",
        "outputId": "15c821f8-9d9a-42a9-eed0-e6a0e9a3a166"
      },
      "outputs": [
        {
          "name": "stdout",
          "output_type": "stream",
          "text": [
            "[*********************100%***********************]  2 of 2 completed\n"
          ]
        },
        {
          "data": {
            "image/png": "[encoded data removed]",
            "text/plain": [
              "<Figure size 864x576 with 1 Axes>"
            ]
          },
          "metadata": {
            "needs_background": "light"
          },
          "output_type": "display_data"
        }
      ],
      "source": [
        "#Ethereum (ETH-USD), Alphabet Inc. (GOOG) (USD)\n",
        "df = yf.download(\"ETH-USD GOOG\", start=\"2017-01-01\", end=\"2021-04-15\")\n",
        "\n",
        "df_filled = df[\"Adj Close\"].asfreq('D', method='ffill')\n",
        "daily_changes= df_filled.pct_change()\n",
        "ETHUSD_returns = daily_changes[\"ETH-USD\"]\n",
        "GOOG_returns = daily_changes[\"GOOG\"]\n",
        "window = int(len(df_filled.index)/2)\n",
        "\n",
        "df_corrs = ETHUSD_returns\\\n",
        "    .rolling(window=window, min_periods=window)\\\n",
        "    .corr(other=GOOG_returns)\\\n",
        "    .dropna()\n",
        "\n",
        "df_corrs.plot(figsize=(12, 8));"
      ]
    },
    {
      "cell_type": "code",
      "execution_count": null,
      "metadata": {
        "id": "52elyA1P95Ja",
        "outputId": "91fd1413-61d2-4afe-a932-f564d731cfbc"
      },
      "outputs": [
        {
          "name": "stdout",
          "output_type": "stream",
          "text": [
            "[*********************100%***********************]  2 of 2 completed\n"
          ]
        },
        {
          "data": {
            "image/png": "[encoded data removed]",
            "text/plain": [
              "<Figure size 864x576 with 1 Axes>"
            ]
          },
          "metadata": {
            "needs_background": "light"
          },
          "output_type": "display_data"
        }
      ],
      "source": [
        "#Ethereum (ETH-USD), Tesla, Inc. (TSLA) (USD)\n",
        "df = yf.download(\"ETH-USD TSLA\", start=\"2017-01-01\", end=\"2021-04-15\")\n",
        "\n",
        "df_filled = df[\"Adj Close\"].asfreq('D', method='ffill')\n",
        "daily_changes= df_filled.pct_change()\n",
        "ETHUSD_returns = daily_changes[\"ETH-USD\"]\n",
        "TSLA_returns = daily_changes[\"TSLA\"]\n",
        "window = int(len(df_filled.index)/2)\n",
        "\n",
        "df_corrs = ETHUSD_returns\\\n",
        "    .rolling(window=window, min_periods=window)\\\n",
        "    .corr(other=TSLA_returns)\\\n",
        "    .dropna()\n",
        "\n",
        "df_corrs.plot(figsize=(12, 8));"
      ]
    },
    {
      "cell_type": "code",
      "execution_count": null,
      "metadata": {
        "id": "aeE5UmnU95Ja",
        "outputId": "f6b27f43-cf90-4ab8-8e64-c0277ea10d98"
      },
      "outputs": [
        {
          "name": "stdout",
          "output_type": "stream",
          "text": [
            "[*********************100%***********************]  1 of 1 completed\n"
          ]
        },
        {
          "data": {
            "text/plain": [
              "Date\n",
              "2021-04-09    4128.799805\n",
              "2021-04-12    4127.990234\n",
              "2021-04-13    4141.589844\n",
              "2021-04-14    4124.660156\n",
              "2021-04-15    4170.419922\n",
              "Name: Adj Close, dtype: float64"
            ]
          },
          "execution_count": 154,
          "metadata": {},
          "output_type": "execute_result"
        }
      ],
      "source": [
        "#correlation with S&P 500\n",
        "df = yf.download(\"^GSPC\", end=\"2021-04-16\")\n",
        "df[\"Adj Close\"].tail()"
      ]
    },
    {
      "cell_type": "code",
      "execution_count": null,
      "metadata": {
        "id": "8zAkru7695Jb",
        "outputId": "50232f8a-d843-43b0-ff6b-f3d86cf993df"
      },
      "outputs": [
        {
          "data": {
            "text/plain": [
              "Date\n",
              "2021-04-09    0.007720\n",
              "2021-04-12   -0.000196\n",
              "2021-04-13    0.003294\n",
              "2021-04-14   -0.004088\n",
              "2021-04-15    0.011094\n",
              "Name: Adj Close, dtype: float64"
            ]
          },
          "execution_count": 155,
          "metadata": {},
          "output_type": "execute_result"
        }
      ],
      "source": [
        "sp_500_dpc = df[\"Adj Close\"].pct_change().fillna(0)\n",
        "sp_500_dpc.tail()"
      ]
    },
    {
      "cell_type": "code",
      "execution_count": null,
      "metadata": {
        "id": "gijrDuiR95Jc",
        "outputId": "d8085ec8-bd0f-4528-daab-cca69a674c3f"
      },
      "outputs": [
        {
          "data": {
            "text/html": [
              "<div>\n",
              "<style scoped>\n",
              "    .dataframe tbody tr th:only-of-type {\n",
              "        vertical-align: middle;\n",
              "    }\n",
              "\n",
              "    .dataframe tbody tr th {\n",
              "        vertical-align: top;\n",
              "    }\n",
              "\n",
              "    .dataframe thead th {\n",
              "        text-align: right;\n",
              "    }\n",
              "</style>\n",
              "<table border=\"1\" class=\"dataframe\">\n",
              "  <thead>\n",
              "    <tr style=\"text-align: right;\">\n",
              "      <th></th>\n",
              "      <th>PLAT</th>\n",
              "      <th>ETH</th>\n",
              "      <th>GOOG</th>\n",
              "      <th>TSLA</th>\n",
              "    </tr>\n",
              "    <tr>\n",
              "      <th>Date</th>\n",
              "      <th></th>\n",
              "      <th></th>\n",
              "      <th></th>\n",
              "      <th></th>\n",
              "    </tr>\n",
              "  </thead>\n",
              "  <tbody>\n",
              "    <tr>\n",
              "      <th>2021-04-09</th>\n",
              "      <td>-0.013019</td>\n",
              "      <td>-0.007883</td>\n",
              "      <td>0.009023</td>\n",
              "      <td>-0.009915</td>\n",
              "    </tr>\n",
              "    <tr>\n",
              "      <th>2021-04-12</th>\n",
              "      <td>-0.022259</td>\n",
              "      <td>0.032452</td>\n",
              "      <td>-0.013601</td>\n",
              "      <td>0.036867</td>\n",
              "    </tr>\n",
              "    <tr>\n",
              "      <th>2021-04-13</th>\n",
              "      <td>-0.012648</td>\n",
              "      <td>0.074712</td>\n",
              "      <td>0.005535</td>\n",
              "      <td>0.085957</td>\n",
              "    </tr>\n",
              "    <tr>\n",
              "      <th>2021-04-14</th>\n",
              "      <td>0.007686</td>\n",
              "      <td>0.059115</td>\n",
              "      <td>-0.005482</td>\n",
              "      <td>-0.039472</td>\n",
              "    </tr>\n",
              "    <tr>\n",
              "      <th>2021-04-15</th>\n",
              "      <td>0.009322</td>\n",
              "      <td>0.034500</td>\n",
              "      <td>0.018547</td>\n",
              "      <td>0.009041</td>\n",
              "    </tr>\n",
              "  </tbody>\n",
              "</table>\n",
              "</div>"
            ],
            "text/plain": [
              "                PLAT       ETH      GOOG      TSLA\n",
              "Date                                              \n",
              "2021-04-09 -0.013019 -0.007883  0.009023 -0.009915\n",
              "2021-04-12 -0.022259  0.032452 -0.013601  0.036867\n",
              "2021-04-13 -0.012648  0.074712  0.005535  0.085957\n",
              "2021-04-14  0.007686  0.059115 -0.005482 -0.039472\n",
              "2021-04-15  0.009322  0.034500  0.018547  0.009041"
            ]
          },
          "execution_count": 156,
          "metadata": {},
          "output_type": "execute_result"
        }
      ],
      "source": [
        "daily_pct_change = dfc.pct_change()\n",
        "daily_pct_change.tail()"
      ]
    },
    {
      "cell_type": "code",
      "execution_count": null,
      "metadata": {
        "id": "-YS2hvoa95Jc",
        "outputId": "ac3a03e5-23db-45bc-bbd7-7c4afd010400"
      },
      "outputs": [
        {
          "data": {
            "text/html": [
              "<div>\n",
              "<style scoped>\n",
              "    .dataframe tbody tr th:only-of-type {\n",
              "        vertical-align: middle;\n",
              "    }\n",
              "\n",
              "    .dataframe tbody tr th {\n",
              "        vertical-align: top;\n",
              "    }\n",
              "\n",
              "    .dataframe thead th {\n",
              "        text-align: right;\n",
              "    }\n",
              "</style>\n",
              "<table border=\"1\" class=\"dataframe\">\n",
              "  <thead>\n",
              "    <tr style=\"text-align: right;\">\n",
              "      <th></th>\n",
              "      <th>SP500</th>\n",
              "      <th>PLAT</th>\n",
              "      <th>ETH</th>\n",
              "      <th>GOOG</th>\n",
              "      <th>TSLA</th>\n",
              "    </tr>\n",
              "    <tr>\n",
              "      <th>Date</th>\n",
              "      <th></th>\n",
              "      <th></th>\n",
              "      <th></th>\n",
              "      <th></th>\n",
              "      <th></th>\n",
              "    </tr>\n",
              "  </thead>\n",
              "  <tbody>\n",
              "    <tr>\n",
              "      <th>2021-04-09</th>\n",
              "      <td>0.007720</td>\n",
              "      <td>-0.013019</td>\n",
              "      <td>-0.007883</td>\n",
              "      <td>0.009023</td>\n",
              "      <td>-0.009915</td>\n",
              "    </tr>\n",
              "    <tr>\n",
              "      <th>2021-04-12</th>\n",
              "      <td>-0.000196</td>\n",
              "      <td>-0.022259</td>\n",
              "      <td>0.032452</td>\n",
              "      <td>-0.013601</td>\n",
              "      <td>0.036867</td>\n",
              "    </tr>\n",
              "    <tr>\n",
              "      <th>2021-04-13</th>\n",
              "      <td>0.003294</td>\n",
              "      <td>-0.012648</td>\n",
              "      <td>0.074712</td>\n",
              "      <td>0.005535</td>\n",
              "      <td>0.085957</td>\n",
              "    </tr>\n",
              "    <tr>\n",
              "      <th>2021-04-14</th>\n",
              "      <td>-0.004088</td>\n",
              "      <td>0.007686</td>\n",
              "      <td>0.059115</td>\n",
              "      <td>-0.005482</td>\n",
              "      <td>-0.039472</td>\n",
              "    </tr>\n",
              "    <tr>\n",
              "      <th>2021-04-15</th>\n",
              "      <td>0.011094</td>\n",
              "      <td>0.009322</td>\n",
              "      <td>0.034500</td>\n",
              "      <td>0.018547</td>\n",
              "      <td>0.009041</td>\n",
              "    </tr>\n",
              "  </tbody>\n",
              "</table>\n",
              "</div>"
            ],
            "text/plain": [
              "               SP500      PLAT       ETH      GOOG      TSLA\n",
              "Date                                                        \n",
              "2021-04-09  0.007720 -0.013019 -0.007883  0.009023 -0.009915\n",
              "2021-04-12 -0.000196 -0.022259  0.032452 -0.013601  0.036867\n",
              "2021-04-13  0.003294 -0.012648  0.074712  0.005535  0.085957\n",
              "2021-04-14 -0.004088  0.007686  0.059115 -0.005482 -0.039472\n",
              "2021-04-15  0.011094  0.009322  0.034500  0.018547  0.009041"
            ]
          },
          "execution_count": 157,
          "metadata": {},
          "output_type": "execute_result"
        }
      ],
      "source": [
        "dpc_all = pd.concat([sp_500_dpc, daily_pct_change], axis=1)\n",
        "dpc_all.rename(columns={\"Adj Close\": \"SP500\"}, inplace=True)\n",
        "dpc_all.tail()"
      ]
    },
    {
      "cell_type": "code",
      "execution_count": null,
      "metadata": {
        "id": "B145ZZZt95Jd",
        "outputId": "2ee8f978-1ce7-4f1d-fd76-1c0dc77ad9b5"
      },
      "outputs": [
        {
          "data": {
            "text/html": [
              "<div>\n",
              "<style scoped>\n",
              "    .dataframe tbody tr th:only-of-type {\n",
              "        vertical-align: middle;\n",
              "    }\n",
              "\n",
              "    .dataframe tbody tr th {\n",
              "        vertical-align: top;\n",
              "    }\n",
              "\n",
              "    .dataframe thead th {\n",
              "        text-align: right;\n",
              "    }\n",
              "</style>\n",
              "<table border=\"1\" class=\"dataframe\">\n",
              "  <thead>\n",
              "    <tr style=\"text-align: right;\">\n",
              "      <th></th>\n",
              "      <th>SP500</th>\n",
              "      <th>PLAT</th>\n",
              "      <th>ETH</th>\n",
              "      <th>GOOG</th>\n",
              "      <th>TSLA</th>\n",
              "    </tr>\n",
              "    <tr>\n",
              "      <th>Date</th>\n",
              "      <th></th>\n",
              "      <th></th>\n",
              "      <th></th>\n",
              "      <th></th>\n",
              "      <th></th>\n",
              "    </tr>\n",
              "  </thead>\n",
              "  <tbody>\n",
              "    <tr>\n",
              "      <th>2021-04-09</th>\n",
              "      <td>233.793875</td>\n",
              "      <td>2.575372</td>\n",
              "      <td>747.481670</td>\n",
              "      <td>45.733463</td>\n",
              "      <td>141.695278</td>\n",
              "    </tr>\n",
              "    <tr>\n",
              "      <th>2021-04-12</th>\n",
              "      <td>233.748033</td>\n",
              "      <td>2.518047</td>\n",
              "      <td>771.739056</td>\n",
              "      <td>45.111450</td>\n",
              "      <td>146.919213</td>\n",
              "    </tr>\n",
              "    <tr>\n",
              "      <th>2021-04-13</th>\n",
              "      <td>234.518113</td>\n",
              "      <td>2.486200</td>\n",
              "      <td>829.396904</td>\n",
              "      <td>45.361137</td>\n",
              "      <td>159.547934</td>\n",
              "    </tr>\n",
              "    <tr>\n",
              "      <th>2021-04-14</th>\n",
              "      <td>233.559467</td>\n",
              "      <td>2.505308</td>\n",
              "      <td>878.426973</td>\n",
              "      <td>45.112452</td>\n",
              "      <td>153.250314</td>\n",
              "    </tr>\n",
              "    <tr>\n",
              "      <th>2021-04-15</th>\n",
              "      <td>236.150620</td>\n",
              "      <td>2.528662</td>\n",
              "      <td>908.732743</td>\n",
              "      <td>45.949138</td>\n",
              "      <td>154.635830</td>\n",
              "    </tr>\n",
              "  </tbody>\n",
              "</table>\n",
              "</div>"
            ],
            "text/plain": [
              "                 SP500      PLAT         ETH       GOOG        TSLA\n",
              "Date                                                               \n",
              "2021-04-09  233.793875  2.575372  747.481670  45.733463  141.695278\n",
              "2021-04-12  233.748033  2.518047  771.739056  45.111450  146.919213\n",
              "2021-04-13  234.518113  2.486200  829.396904  45.361137  159.547934\n",
              "2021-04-14  233.559467  2.505308  878.426973  45.112452  153.250314\n",
              "2021-04-15  236.150620  2.528662  908.732743  45.949138  154.635830"
            ]
          },
          "execution_count": 158,
          "metadata": {},
          "output_type": "execute_result"
        }
      ],
      "source": [
        "#Cumulative daily returns\n",
        "cdr_all = (1 + dpc_all).cumprod()\n",
        "cdr_all.tail()"
      ]
    },
    {
      "cell_type": "code",
      "execution_count": null,
      "metadata": {
        "id": "uaaqhRcb95Jd",
        "outputId": "f29dbb30-4c16-4792-fa56-0952917f79fe"
      },
      "outputs": [
        {
          "data": {
            "text/html": [
              "<div>\n",
              "<style scoped>\n",
              "    .dataframe tbody tr th:only-of-type {\n",
              "        vertical-align: middle;\n",
              "    }\n",
              "\n",
              "    .dataframe tbody tr th {\n",
              "        vertical-align: top;\n",
              "    }\n",
              "\n",
              "    .dataframe thead th {\n",
              "        text-align: right;\n",
              "    }\n",
              "</style>\n",
              "<table border=\"1\" class=\"dataframe\">\n",
              "  <thead>\n",
              "    <tr style=\"text-align: right;\">\n",
              "      <th></th>\n",
              "      <th>SP500</th>\n",
              "      <th>PLAT</th>\n",
              "      <th>ETH</th>\n",
              "      <th>GOOG</th>\n",
              "      <th>TSLA</th>\n",
              "    </tr>\n",
              "  </thead>\n",
              "  <tbody>\n",
              "    <tr>\n",
              "      <th>SP500</th>\n",
              "      <td>1.000000</td>\n",
              "      <td>0.041949</td>\n",
              "      <td>0.102850</td>\n",
              "      <td>0.615527</td>\n",
              "      <td>0.395738</td>\n",
              "    </tr>\n",
              "    <tr>\n",
              "      <th>PLAT</th>\n",
              "      <td>0.041949</td>\n",
              "      <td>1.000000</td>\n",
              "      <td>0.051780</td>\n",
              "      <td>0.049115</td>\n",
              "      <td>0.115128</td>\n",
              "    </tr>\n",
              "    <tr>\n",
              "      <th>ETH</th>\n",
              "      <td>0.102850</td>\n",
              "      <td>0.051780</td>\n",
              "      <td>1.000000</td>\n",
              "      <td>0.109912</td>\n",
              "      <td>0.044219</td>\n",
              "    </tr>\n",
              "    <tr>\n",
              "      <th>GOOG</th>\n",
              "      <td>0.615527</td>\n",
              "      <td>0.049115</td>\n",
              "      <td>0.109912</td>\n",
              "      <td>1.000000</td>\n",
              "      <td>0.306243</td>\n",
              "    </tr>\n",
              "    <tr>\n",
              "      <th>TSLA</th>\n",
              "      <td>0.395738</td>\n",
              "      <td>0.115128</td>\n",
              "      <td>0.044219</td>\n",
              "      <td>0.306243</td>\n",
              "      <td>1.000000</td>\n",
              "    </tr>\n",
              "  </tbody>\n",
              "</table>\n",
              "</div>"
            ],
            "text/plain": [
              "          SP500      PLAT       ETH      GOOG      TSLA\n",
              "SP500  1.000000  0.041949  0.102850  0.615527  0.395738\n",
              "PLAT   0.041949  1.000000  0.051780  0.049115  0.115128\n",
              "ETH    0.102850  0.051780  1.000000  0.109912  0.044219\n",
              "GOOG   0.615527  0.049115  0.109912  1.000000  0.306243\n",
              "TSLA   0.395738  0.115128  0.044219  0.306243  1.000000"
            ]
          },
          "execution_count": 159,
          "metadata": {},
          "output_type": "execute_result"
        }
      ],
      "source": [
        "#Correlation of the daily percentage change values\n",
        "dpc_corrs = dpc_all.corr()\n",
        "dpc_corrs.tail()"
      ]
    },
    {
      "cell_type": "code",
      "execution_count": null,
      "metadata": {
        "id": "ZW-fcUCo95Jd",
        "outputId": "bd779191-88d5-4d8f-bcaf-bded88ccc515"
      },
      "outputs": [
        {
          "data": {
            "text/plain": [
              "SP500    1.000000\n",
              "PLAT     0.041949\n",
              "ETH      0.102850\n",
              "GOOG     0.615527\n",
              "TSLA     0.395738\n",
              "Name: SP500, dtype: float64"
            ]
          },
          "execution_count": 160,
          "metadata": {},
          "output_type": "execute_result"
        }
      ],
      "source": [
        "dpc_corrs.loc[\"SP500\"]"
      ]
    },
    {
      "cell_type": "code",
      "execution_count": null,
      "metadata": {
        "id": "A2h0c_Vj95Jl",
        "outputId": "3a46f09e-df53-4b89-ea98-523b5be94633"
      },
      "outputs": [
        {
          "data": {
            "image/png": "[encoded data removed]",
            "text/plain": [
              "<Figure size 864x576 with 1 Axes>"
            ]
          },
          "metadata": {
            "needs_background": "light"
          },
          "output_type": "display_data"
        }
      ],
      "source": [
        "_ = cdr_all[[\"SP500\", \"GOOG\", \"PLAT\"]].plot(figsize=(12,8));\n",
        "###GOOG shows that it moves in the most similar way to the S&P500, while PLAT shows that it moves the least like the index."
      ]
    },
    {
      "cell_type": "code",
      "execution_count": null,
      "metadata": {
        "id": "OtHbJBuf95Jl"
      },
      "outputs": [],
      "source": [
        "#############################################################YEAH##############################################################"
      ]
    }
  ],
  "metadata": {
    "kernelspec": {
      "display_name": "Python 3",
      "language": "python",
      "name": "python3"
    },
    "language_info": {
      "codemirror_mode": {
        "name": "ipython",
        "version": 3
      },
      "file_extension": ".py",
      "mimetype": "text/x-python",
      "name": "python",
      "nbconvert_exporter": "python",
      "pygments_lexer": "ipython3",
      "version": "3.8.5"
    },
    "colab": {
      "provenance": []
    }
  },
  "nbformat": 4,
  "nbformat_minor": 0
}
